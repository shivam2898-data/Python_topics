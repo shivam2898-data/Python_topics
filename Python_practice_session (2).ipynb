{
 "cells": [
  {
   "cell_type": "markdown",
   "id": "919a5290-320b-48e2-9a4a-fd57417a4eef",
   "metadata": {},
   "source": [
    "# Pattern"
   ]
  },
  {
   "cell_type": "code",
   "execution_count": 73,
   "id": "286fb284-85fb-4b5c-810d-30c2b56c359a",
   "metadata": {},
   "outputs": [
    {
     "name": "stdout",
     "output_type": "stream",
     "text": [
      "65 \n",
      "66 67 \n",
      "68 69 70 \n"
     ]
    }
   ],
   "source": [
    "n=3\n",
    "a=65\n",
    "for i in range(n):\n",
    "    for j in range(i+1):\n",
    "        print(a,end=' ')\n",
    "        a=a+1\n",
    "    print()    \n",
    "        "
   ]
  },
  {
   "cell_type": "code",
   "execution_count": 89,
   "id": "9a46971e-51d2-45bc-9cc9-ed6d5f359b2e",
   "metadata": {},
   "outputs": [
    {
     "name": "stdout",
     "output_type": "stream",
     "text": [
      "A \n",
      "B C \n",
      "D E F \n",
      "G H I J \n",
      "K L M N O \n"
     ]
    }
   ],
   "source": [
    "n=5\n",
    "a=65\n",
    "for i in range(n):\n",
    "    for j in range(i+1):\n",
    "        print(chr(a),end=' ')\n",
    "        a=a+1\n",
    "    print()   "
   ]
  },
  {
   "cell_type": "code",
   "execution_count": 90,
   "id": "22d2c7e3-f0e8-4f1d-b158-8f61c307f80c",
   "metadata": {},
   "outputs": [
    {
     "name": "stdout",
     "output_type": "stream",
     "text": [
      "* * * * * \n",
      "* * * * \n",
      "* * * \n",
      "* * \n",
      "* \n"
     ]
    }
   ],
   "source": [
    "n=5\n",
    "for i in range(n):\n",
    "    for j in range(i,n):\n",
    "        print('*',end=\" \")\n",
    "    print()    "
   ]
  },
  {
   "cell_type": "code",
   "execution_count": 91,
   "id": "1bc3e4be-d712-42da-b292-c35f2b8c5e2d",
   "metadata": {},
   "outputs": [
    {
     "name": "stdout",
     "output_type": "stream",
     "text": [
      "0 1 2 3 4 \n",
      "0 1 2 3 \n",
      "0 1 2 \n",
      "0 1 \n",
      "0 \n"
     ]
    }
   ],
   "source": [
    "n=5\n",
    "for i in range(n):\n",
    "    a=0\n",
    "    for j in range(i,n):\n",
    "        print(a,end=\" \")\n",
    "        a+=1\n",
    "    print()    "
   ]
  },
  {
   "cell_type": "code",
   "execution_count": 92,
   "id": "d6756397-26da-4935-b4d9-cabdea8dab65",
   "metadata": {},
   "outputs": [
    {
     "name": "stdout",
     "output_type": "stream",
     "text": [
      "10 11 12 13 14 \n",
      "15 16 17 18 \n",
      "19 20 21 \n",
      "22 23 \n",
      "24 \n"
     ]
    }
   ],
   "source": [
    "n=5\n",
    "a=10\n",
    "for i in range(n):\n",
    "    for j in range(i,n):\n",
    "        print(a,end=\" \")\n",
    "        a+=1\n",
    "    print() "
   ]
  },
  {
   "cell_type": "code",
   "execution_count": 93,
   "id": "934d67a4-7d25-4de3-b811-2c252b252517",
   "metadata": {},
   "outputs": [
    {
     "name": "stdout",
     "output_type": "stream",
     "text": [
      "10 11 12 13 14 \n",
      "10 11 12 13 \n",
      "10 11 12 \n",
      "10 11 \n",
      "10 \n"
     ]
    }
   ],
   "source": [
    "n=5\n",
    "for i in range(n):\n",
    "    a=10\n",
    "    for j in range(i,n):\n",
    "        print(a,end=\" \")\n",
    "        a+=1\n",
    "    print() "
   ]
  },
  {
   "cell_type": "code",
   "execution_count": 94,
   "id": "14c9966e-500b-49e3-91d6-153ba5b93288",
   "metadata": {},
   "outputs": [
    {
     "name": "stdout",
     "output_type": "stream",
     "text": [
      "1 2 3 4 5 \n",
      "2 3 4 5 \n",
      "3 4 5 \n",
      "4 5 \n",
      "5 \n"
     ]
    }
   ],
   "source": [
    "n=5\n",
    "for i in range(n):\n",
    "    for j in range(i,n):\n",
    "        print(j+1,end=\" \")\n",
    "    print() "
   ]
  },
  {
   "cell_type": "code",
   "execution_count": 88,
   "id": "566c7727-8355-4c09-8185-adedb2204f44",
   "metadata": {},
   "outputs": [
    {
     "name": "stdout",
     "output_type": "stream",
     "text": [
      "1 0 1 0 1 \n",
      "1 0 1 0 \n",
      "1 0 1 \n",
      "1 0 \n",
      "1 \n"
     ]
    }
   ],
   "source": [
    "n=5\n",
    "for i in range(n):\n",
    "    for j in range(0,n-i):\n",
    "        if j%2==0  :\n",
    "          print(1,end=\" \")\n",
    "        else:\n",
    "            print(0,end=' ')\n",
    "    print() "
   ]
  },
  {
   "cell_type": "code",
   "execution_count": 96,
   "id": "b790f6b1-4e68-4730-a4d4-77217a8ee24d",
   "metadata": {},
   "outputs": [
    {
     "name": "stdout",
     "output_type": "stream",
     "text": [
      "*****\n",
      "****\n",
      "***\n",
      "**\n",
      "*\n"
     ]
    }
   ],
   "source": [
    "n=5\n",
    "for i in range(n):\n",
    "    print('*' * (n-i))"
   ]
  },
  {
   "cell_type": "code",
   "execution_count": 1,
   "id": "633f2642-b6e8-4d45-bdcc-56186183de4d",
   "metadata": {},
   "outputs": [
    {
     "name": "stdout",
     "output_type": "stream",
     "text": [
      "1 0 1 0 1 \n",
      "0 2 0 2 \n",
      "3 0 3 \n",
      "0 4 \n",
      "5 \n"
     ]
    }
   ],
   "source": [
    "n=5\n",
    "a=1\n",
    "for i in range(n):\n",
    "    for j in range(i,n):\n",
    "        if j%2==0  :\n",
    "          print(a,end=\" \")\n",
    "          \n",
    "        else:\n",
    "            print(0,end=' ')\n",
    "    a+=1    \n",
    "    print() "
   ]
  },
  {
   "cell_type": "code",
   "execution_count": 2,
   "id": "8342a634-399b-4d2f-813c-aabad8b0dc98",
   "metadata": {},
   "outputs": [
    {
     "name": "stdout",
     "output_type": "stream",
     "text": [
      "*\n",
      "**\n",
      "***\n",
      "****\n",
      "*****\n"
     ]
    }
   ],
   "source": [
    "n=5\n",
    "for i in range(n):\n",
    "     for j in range(i+1):\n",
    "        print('*', end='')\n",
    "     print( )   "
   ]
  },
  {
   "cell_type": "code",
   "execution_count": 99,
   "id": "c86fde92-3c6a-40a7-9cab-9d384ccf2c05",
   "metadata": {},
   "outputs": [
    {
     "name": "stdout",
     "output_type": "stream",
     "text": [
      "     *\n",
      "    **\n",
      "   ***\n",
      "  ****\n",
      " *****\n"
     ]
    }
   ],
   "source": [
    "n=5\n",
    "for i in range(n):\n",
    "    for j in range(i,n):\n",
    "        print(' ', end='')\n",
    "    for j in range(i+1):\n",
    "        print('*', end='')\n",
    "    print( )    "
   ]
  },
  {
   "cell_type": "code",
   "execution_count": 100,
   "id": "b506b04b-6c47-4f98-8470-43b49c197cfb",
   "metadata": {},
   "outputs": [
    {
     "name": "stdout",
     "output_type": "stream",
     "text": [
      " \n",
      "  \n",
      "   \n",
      "    \n",
      "     \n"
     ]
    }
   ],
   "source": [
    "n=5\n",
    "for i in range(n):\n",
    "    for j in range(i+1):\n",
    "        print(' ', end='')\n",
    "    print()    "
   ]
  },
  {
   "cell_type": "code",
   "execution_count": 101,
   "id": "ed7a2180-64ca-4727-b351-f61eb3651359",
   "metadata": {},
   "outputs": [
    {
     "name": "stdout",
     "output_type": "stream",
     "text": [
      "*****\n",
      "****\n",
      "***\n",
      "**\n",
      "*\n"
     ]
    }
   ],
   "source": [
    "n=5\n",
    "for i in range(n):\n",
    "    for j in range(i,n):\n",
    "        print('*', end='')\n",
    "    print()    "
   ]
  },
  {
   "cell_type": "code",
   "execution_count": 102,
   "id": "18080b7a-08f1-4b25-a0b7-df0e0cd15759",
   "metadata": {},
   "outputs": [
    {
     "name": "stdout",
     "output_type": "stream",
     "text": [
      " *****\n",
      "  ****\n",
      "   ***\n",
      "    **\n",
      "     *\n"
     ]
    }
   ],
   "source": [
    "n=5\n",
    "for i in range(n):\n",
    "    for j in range(i+1):\n",
    "        print(' ', end='')\n",
    "    for j in range(i,n):\n",
    "        print('*', end='')    \n",
    "    print()   "
   ]
  },
  {
   "cell_type": "code",
   "execution_count": 103,
   "id": "14ab4505-422c-4193-b3a1-e4c71914d7ff",
   "metadata": {},
   "outputs": [
    {
     "name": "stdout",
     "output_type": "stream",
     "text": [
      "1 \n",
      "2 3 \n",
      "4   6 \n",
      "7     10 \n",
      "11 12 13 14 15 \n"
     ]
    }
   ],
   "source": [
    "n=5\n",
    "a=1\n",
    "for i in range(n):\n",
    "    for j in range(i+1):\n",
    "        if j==0 or j==i or i==n-1:\n",
    "           print(a,end=' ')\n",
    "        else:\n",
    "            print(' ',end=' ')\n",
    "        a+=1    \n",
    "    print()\n",
    "    "
   ]
  },
  {
   "cell_type": "code",
   "execution_count": 104,
   "id": "8cec4829-74f0-45c5-813e-95cc47db5020",
   "metadata": {},
   "outputs": [
    {
     "name": "stdout",
     "output_type": "stream",
     "text": [
      "* * * * * \n",
      "*       * \n",
      "*       * \n",
      "*       * \n",
      "* * * * * \n"
     ]
    }
   ],
   "source": [
    "n=5\n",
    "for i in range(n):\n",
    "    for j in range(n):\n",
    "        if i==0 or j==0 or i==n-1 or j==n-1:\n",
    "            print('*', end=' ')\n",
    "        else:\n",
    "            print(' ', end=' ')\n",
    "    print()        \n",
    "        "
   ]
  },
  {
   "cell_type": "code",
   "execution_count": 1,
   "id": "a8ec0600-685a-4b51-b2a9-ab9bca8751ec",
   "metadata": {},
   "outputs": [
    {
     "name": "stdout",
     "output_type": "stream",
     "text": [
      "*         \n",
      "* *       \n",
      "*   *     \n",
      "*     *   \n",
      "* * * * * \n"
     ]
    }
   ],
   "source": [
    "n=5\n",
    "for i in range(n):\n",
    "    for j in range(n):\n",
    "        if j==0 or i==n-1 or j==i:\n",
    "            print('*', end=' ')\n",
    "        else:\n",
    "            print(' ',end=' ')\n",
    "    print()        "
   ]
  },
  {
   "cell_type": "code",
   "execution_count": 4,
   "id": "996970c5-f160-43b4-8fae-5ef96db23e38",
   "metadata": {
    "scrolled": true
   },
   "outputs": [
    {
     "name": "stdout",
     "output_type": "stream",
     "text": [
      "* * * * * \n",
      "*     *   \n",
      "*   *     \n",
      "* *       \n",
      "*         \n"
     ]
    }
   ],
   "source": [
    "n=5\n",
    "for i in range(n):\n",
    "    for j in range(n):\n",
    "        if  i==0 or j==0  or j==n-i-1:\n",
    "            print('*',end=' ')\n",
    "        else:\n",
    "            print(' ', end=' ')\n",
    "    print( )    "
   ]
  },
  {
   "cell_type": "code",
   "execution_count": 5,
   "id": "09a61f20-3225-4e95-b293-4f1e89077315",
   "metadata": {},
   "outputs": [
    {
     "name": "stdout",
     "output_type": "stream",
     "text": [
      "* * * * * \n",
      "  *     * \n",
      "    *   * \n",
      "      * * \n",
      "        * \n"
     ]
    }
   ],
   "source": [
    "n=5\n",
    "for i in range(n):\n",
    "    for j in range(n):\n",
    "         if i==0  or i==j or j==n-1:\n",
    "             print('*',end=' ')\n",
    "         else:\n",
    "             print(' ',end=' ')\n",
    "    print()    "
   ]
  },
  {
   "cell_type": "code",
   "execution_count": 7,
   "id": "05faf4ab-9fda-4bbf-8e14-b25f5fdad963",
   "metadata": {},
   "outputs": [
    {
     "name": "stdout",
     "output_type": "stream",
     "text": [
      "    *\n",
      "   **\n",
      "  * *\n",
      " *  *\n",
      "*****\n"
     ]
    }
   ],
   "source": [
    "n=5\n",
    "for i in range(n):\n",
    "  for j in range(n):\n",
    "     if j==n-1 or i==n-1 or i+j==n-1:\n",
    "        print('*',end=\"\")\n",
    "     else:\n",
    "        print(\" \",end='')\n",
    "  print()    "
   ]
  },
  {
   "cell_type": "code",
   "execution_count": 109,
   "id": "8d86df85-0f3c-47f8-9da2-fe4f767ce23b",
   "metadata": {},
   "outputs": [
    {
     "name": "stdout",
     "output_type": "stream",
     "text": [
      "          * \n",
      "        * * \n",
      "      * * * \n",
      "    * * * * \n",
      "  * * * * * \n"
     ]
    }
   ],
   "source": [
    "\n",
    "n = 5\n",
    "for i in range(n):\n",
    "  for j in range(i,n):\n",
    "    print(\" \",end=\" \")\n",
    "  for j in range(i+1):\n",
    "    print(\"*\",end=\" \")\n",
    "  print()\n",
    "     \n"
   ]
  },
  {
   "cell_type": "code",
   "execution_count": 110,
   "id": "2cad50c4-2477-4392-b2c7-1d8039b8d105",
   "metadata": {},
   "outputs": [
    {
     "name": "stdout",
     "output_type": "stream",
     "text": [
      "*\n",
      "**\n",
      "***\n",
      "****\n",
      "*****\n"
     ]
    }
   ],
   "source": [
    "n=5\n",
    "for i in range(n):\n",
    "    for j in range(i+1):\n",
    "        print('*',end='')\n",
    "    print()    "
   ]
  },
  {
   "cell_type": "code",
   "execution_count": 111,
   "id": "68d6bb07-f1a8-499b-9767-c63cb268a651",
   "metadata": {},
   "outputs": [
    {
     "name": "stdout",
     "output_type": "stream",
     "text": [
      "          * \n",
      "        * * * \n",
      "      * * * * * \n",
      "    * * * * * * * \n",
      "  * * * * * * * * * \n"
     ]
    }
   ],
   "source": [
    "n = 5\n",
    "for i in range(n):\n",
    "  for j in range(i,n):\n",
    "    print(\" \",end=\" \")\n",
    "  for j in range(i):      ## for j in range(0,2*i+1):\n",
    "    print(\"*\",end=\" \")\n",
    "  for j in range(i+1):\n",
    "    print(\"*\",end=\" \")\n",
    "         \n",
    "  print()"
   ]
  },
  {
   "cell_type": "code",
   "execution_count": 112,
   "id": "b13b6e36-807b-45d8-8e60-63c3257ef1ae",
   "metadata": {},
   "outputs": [
    {
     "name": "stdout",
     "output_type": "stream",
     "text": [
      " *********\n",
      "  *******\n",
      "   *****\n",
      "    ***\n",
      "     *\n"
     ]
    }
   ],
   "source": [
    "n=5\n",
    "for i in range(n):\n",
    "    for j in range(i+1):\n",
    "        print(' ',end=\"\")\n",
    "    for j in range(i,n):\n",
    "         print('*',end='')\n",
    "    for j in range(i,n-1):\n",
    "         print('*',end='')\n",
    "    print()    \n",
    "           \n",
    "         "
   ]
  },
  {
   "cell_type": "code",
   "execution_count": 113,
   "id": "152790aa-8bd1-4120-a905-e81a409726c8",
   "metadata": {},
   "outputs": [
    {
     "name": "stdout",
     "output_type": "stream",
     "text": [
      "* * * * * * * * * * \n",
      "* * * *     * * * * \n",
      "* * *         * * * \n",
      "* *             * * \n",
      "*                 * \n",
      "*                 * \n",
      "* *             * * \n",
      "* * *         * * * \n",
      "* * * *     * * * * \n",
      "* * * * * * * * * * \n"
     ]
    }
   ],
   "source": [
    "n=5\n",
    "for i in range(n):\n",
    "    for j in range(i,n):\n",
    "        print('*',end=' ')\n",
    "    for j in range(i):\n",
    "        print(' ',end=' ')    \n",
    "    for j in range(i):\n",
    "        print(' ',end=' ')  \n",
    "    for j in range(i,n):\n",
    "        print('*',end=' ')    \n",
    "    print()   \n",
    "for i in range(n):\n",
    "    for j in range(i+1):\n",
    "        print('*',end=\" \")\n",
    "    for j in range(i,n-1):\n",
    "        print(' ',end=\" \")\n",
    "    for j in range(i,n-1):\n",
    "        print(' ',end=\" \")\n",
    "    for j in range(i+1):\n",
    "        print('*',end=\" \")\n",
    "    print()    \n",
    "    "
   ]
  },
  {
   "cell_type": "code",
   "execution_count": 114,
   "id": "eec9509d-2a15-4501-b797-0ae0865f4f8d",
   "metadata": {},
   "outputs": [
    {
     "name": "stdout",
     "output_type": "stream",
     "text": [
      "  *\n",
      " ***\n",
      "*****\n"
     ]
    }
   ],
   "source": [
    "for i in range(0,3):\n",
    "    for j in range(0,2-i):\n",
    "        print(' ',end='')\n",
    "    for j in range(0,2*i+1):\n",
    "        print('*',end='')\n",
    "    print()    "
   ]
  },
  {
   "cell_type": "code",
   "execution_count": 115,
   "id": "988d3d78-81b8-49bb-a262-9356597c477b",
   "metadata": {},
   "outputs": [
    {
     "name": "stdout",
     "output_type": "stream",
     "text": [
      " *********\n",
      "  *******\n",
      "   *****\n",
      "    ***\n",
      "     *\n"
     ]
    }
   ],
   "source": [
    "for i in range(n):\n",
    "    for j in range(i+1):\n",
    "        print(' ',end='')\n",
    "    for j in range(i,n):\n",
    "        print('*',end='')\n",
    "    for j in range(i,n-1):\n",
    "        print('*',end='')    \n",
    "    print()    "
   ]
  },
  {
   "cell_type": "code",
   "execution_count": 8,
   "id": "1d73302a-11f4-485c-b79d-e951f7eb7023",
   "metadata": {},
   "outputs": [
    {
     "name": "stdout",
     "output_type": "stream",
     "text": [
      "54321\n",
      "4321\n",
      "321\n",
      "21\n",
      "1\n"
     ]
    }
   ],
   "source": [
    "n=5\n",
    "for i in range(5,0,-1):\n",
    "  for j in range(0,i):\n",
    "      print(i, end='')\n",
    "      i-=1\n",
    "  print()    "
   ]
  },
  {
   "cell_type": "code",
   "execution_count": 90,
   "id": "1e7f82f1-3ee5-4f97-8657-93ff09bbfb5f",
   "metadata": {},
   "outputs": [
    {
     "data": {
      "text/plain": [
       "['', 'ello ', 'ey tus', 'ar']"
      ]
     },
     "execution_count": 90,
     "metadata": {},
     "output_type": "execute_result"
    }
   ],
   "source": [
    "s='hello hey tushar'\n",
    "s.split('h')\n",
    "# for i in s.split(' '):\n",
    "#     print(i)"
   ]
  },
  {
   "cell_type": "code",
   "execution_count": 16,
   "id": "6c0ff67d-daf8-42e0-822e-47111c3651d8",
   "metadata": {},
   "outputs": [
    {
     "name": "stdout",
     "output_type": "stream",
     "text": [
      "['hello', 'hey', 'tushar']\n"
     ]
    },
    {
     "data": {
      "text/plain": [
       "'hello hey tushar'"
      ]
     },
     "execution_count": 16,
     "metadata": {},
     "output_type": "execute_result"
    }
   ],
   "source": [
    "s='hello hey tushar'\n",
    "x=s.split(' ')  # convert string into list\n",
    "print(x)\n",
    "\" \".join(x)   # covert list into string"
   ]
  },
  {
   "cell_type": "code",
   "execution_count": 15,
   "id": "14e52bf3-b8f9-4964-b2ac-70db36631e26",
   "metadata": {},
   "outputs": [
    {
     "name": "stdout",
     "output_type": "stream",
     "text": [
      "{'a': 3, 'ab': 2, 'aba': 2, 'abab': 1, 'ababa': 1, 'b': 2, 'ba': 2, 'bab': 1, 'baba': 1}\n"
     ]
    }
   ],
   "source": [
    "str='ababa'\n",
    "sub_str={}\n",
    "for i in range(len(str)):\n",
    "    for j in range(i+1,len(str)+1):\n",
    "        sub=str[i:j]\n",
    "        if sub in sub_str:\n",
    "            sub_str[sub]+=1\n",
    "        else:\n",
    "            sub_str[sub]=1\n",
    "print(sub_str)            "
   ]
  },
  {
   "cell_type": "code",
   "execution_count": 18,
   "id": "029635c3-28dc-4ac2-aa7d-183b64033ccd",
   "metadata": {},
   "outputs": [
    {
     "name": "stdout",
     "output_type": "stream",
     "text": [
      "['h', 'he', 'hey', 'heyy', 'e', 'ey', 'eyy', 'y', 'yy', 'y']\n"
     ]
    }
   ],
   "source": [
    "str='heyy'\n",
    "list=[]\n",
    "for i in range(len(str)):\n",
    "    for j in range(i+1,len(str)+1):\n",
    "        sub=str[i:j]\n",
    "        list.append(sub)\n",
    "print(list)"
   ]
  },
  {
   "cell_type": "code",
   "execution_count": 3,
   "id": "6d48aa1f-3ee5-499e-b76b-dcf953112aee",
   "metadata": {},
   "outputs": [
    {
     "name": "stdout",
     "output_type": "stream",
     "text": [
      "7\n"
     ]
    }
   ],
   "source": [
    "list=[3,3,3,7,3,3]\n",
    "list2=[]\n",
    "for i in range(len(list)):\n",
    "   if i not in list2:\n",
    "       list2.append(list[i])\n",
    "   else:\n",
    "        print(list[i])"
   ]
  },
  {
   "cell_type": "code",
   "execution_count": null,
   "id": "7503e533-6e8e-456d-bb53-47603c0f83eb",
   "metadata": {},
   "outputs": [],
   "source": [
    "'khokho','abab'\n",
    "#symetric string\n",
    "#'abcabd'  not symetric string"
   ]
  },
  {
   "cell_type": "markdown",
   "id": "daffd662-9ea4-4c57-98dd-133f49ca2f59",
   "metadata": {},
   "source": [
    "## Check symetric or not?"
   ]
  },
  {
   "cell_type": "code",
   "execution_count": 54,
   "id": "ded1a3bb-32c7-4600-b31e-b8b5c2867fdd",
   "metadata": {},
   "outputs": [
    {
     "name": "stdout",
     "output_type": "stream",
     "text": [
      "symetric\n"
     ]
    }
   ],
   "source": [
    "def check_symetric(str1):     # 'abcabd'  , 'abab'\n",
    "    mid=len(str1)//2\n",
    "    if len(str1)% 2 != 0:\n",
    "       print('not symetric')\n",
    "    elif str1[:mid]==str1[mid:]:\n",
    "        print('symetric')\n",
    "    else:\n",
    "        print('not symetric')\n",
    "# str1='khokho' \n",
    "check_symetric('khokho')"
   ]
  },
  {
   "cell_type": "markdown",
   "id": "37457077-b8f9-4836-823d-e864139bae33",
   "metadata": {},
   "source": [
    "# List Practice"
   ]
  },
  {
   "cell_type": "markdown",
   "id": "481286f3-e9b9-40a9-9575-c9d91c34ea05",
   "metadata": {},
   "source": [
    "## 1.sorting the list"
   ]
  },
  {
   "cell_type": "code",
   "execution_count": 116,
   "id": "a2934a0a-d7b2-4fee-9fd6-c0e7e9b4105e",
   "metadata": {},
   "outputs": [
    {
     "name": "stdout",
     "output_type": "stream",
     "text": [
      "sorting=> [80, 60, 20, 10, 9]\n"
     ]
    }
   ],
   "source": [
    "#using two loops\n",
    "list2=[10,20,60,80,9]\n",
    "for i in range(0,len(list2)):                       \n",
    "    for j in range(i+1,len(list2)):\n",
    "        if(list2[i]<list2[j]):                        #in ascending (>) write in if condition\n",
    "            list2[i],list2[j]=list2[j],list2[i]      ##Swap the value\n",
    "print('sorting=>',list2)\n"
   ]
  },
  {
   "cell_type": "code",
   "execution_count": 117,
   "id": "55d4b823-aaab-4572-b470-84f280b4417d",
   "metadata": {},
   "outputs": [
    {
     "name": "stdout",
     "output_type": "stream",
     "text": [
      "[9, 10, 20, 60, 80]\n"
     ]
    }
   ],
   "source": [
    "#using single loop\n",
    "list2=[10,20,60,80,9]\n",
    "count=0\n",
    "while len(list2)>count+1:\n",
    "    if list2[count]> list2[count+1]:    # in decending use(<) in if condition\n",
    "        temp = list2[count + 1]      #Swap the value using third variable\n",
    "        list2[count + 1] = list2[count]\n",
    "        list2[count] = temp\n",
    "        if count>0:\n",
    "           count=count-1\n",
    "    else:        \n",
    "        count=count+1\n",
    "print(list2)    \n",
    "    "
   ]
  },
  {
   "cell_type": "markdown",
   "id": "fd8d2e7d-b4fc-4847-b9b5-b0c1e08178db",
   "metadata": {},
   "source": [
    "# Leetcode question--->Best time to buy and sell stock"
   ]
  },
  {
   "cell_type": "code",
   "execution_count": 118,
   "id": "1f1e02f5-e475-4ae1-87fe-068c7e66f331",
   "metadata": {},
   "outputs": [
    {
     "name": "stdout",
     "output_type": "stream",
     "text": [
      "maxium profit  5\n"
     ]
    }
   ],
   "source": [
    "prices=[7,1,5,3,6,4]\n",
    "max=0\n",
    "for i in range(0,len(prices)):\n",
    "    for j in range(i,len(prices)):\n",
    "        if(prices[j]-prices[i]>max):\n",
    "            max=prices[j]-prices[i]\n",
    "print(\"maxium profit \",max)"
   ]
  },
  {
   "cell_type": "markdown",
   "id": "040ab300-a92c-44d2-a141-542f005509ae",
   "metadata": {},
   "source": [
    "## 2.You have been given two list having same number of elements and you have to merge both the list by removing the duplicate elements but with a single loop?"
   ]
  },
  {
   "cell_type": "code",
   "execution_count": 119,
   "id": "2e0da36c-905e-404e-b6e3-a2c86e1e645c",
   "metadata": {},
   "outputs": [
    {
     "name": "stdout",
     "output_type": "stream",
     "text": [
      "[1, 2, 3, 5, 4, 6, 7]\n"
     ]
    }
   ],
   "source": [
    "list1=[1,2,3,5,3]\n",
    "list2=[1,2,4,6,7]\n",
    "#list1.extend(list2)\n",
    "list3=[]\n",
    "for i in list1+list2:\n",
    "    if i not in list3: \n",
    "       list3.append(i)\n",
    "print(list3)    "
   ]
  },
  {
   "cell_type": "markdown",
   "id": "30ba49e1-c4b6-4abb-abde-5007b327d4ec",
   "metadata": {},
   "source": [
    "# Leetcode question---> Two sum problem  (using single l)"
   ]
  },
  {
   "cell_type": "code",
   "execution_count": 120,
   "id": "45186341-d917-4f8b-8a7c-acb04a9dcca0",
   "metadata": {},
   "outputs": [
    {
     "name": "stdout",
     "output_type": "stream",
     "text": [
      "[0, 1]\n"
     ]
    }
   ],
   "source": [
    "num=[2,7,11,15]\n",
    "target=9\n",
    "dict={}\n",
    "for i in range(len(num)):\n",
    "    res=target-num[i]\n",
    "    if res in dict:\n",
    "        print([dict[res],i])\n",
    "    dict[num[i]]=i    "
   ]
  },
  {
   "cell_type": "markdown",
   "id": "70a84d2b-9788-4eb9-83e1-31bc33049f25",
   "metadata": {},
   "source": [
    "## Method 2"
   ]
  },
  {
   "cell_type": "code",
   "execution_count": 2,
   "id": "dcf5efe0-6a60-4bac-8f53-bc3543affce2",
   "metadata": {},
   "outputs": [
    {
     "name": "stdout",
     "output_type": "stream",
     "text": [
      "0 1\n"
     ]
    }
   ],
   "source": [
    "num=[2,7,11,15]\n",
    "target=9\n",
    "start=0\n",
    "end=3    #(len(num)-1)\n",
    "for i in range(0,len(num)):\n",
    "    if num[start]+num[end]>target:\n",
    "        end-=1\n",
    "    elif  num[start]+num[end]<target:\n",
    "        start+=1  \n",
    "print(start,end)"
   ]
  },
  {
   "cell_type": "markdown",
   "id": "1cd6df9f-bbd8-47ff-9913-089f35f38445",
   "metadata": {},
   "source": [
    "# Leetcod---> 3sum questions"
   ]
  },
  {
   "cell_type": "code",
   "execution_count": 56,
   "id": "2f97150a-2bb5-4cbe-b6d0-b212840fb25a",
   "metadata": {},
   "outputs": [
    {
     "name": "stdout",
     "output_type": "stream",
     "text": [
      "-1 -1 2\n",
      "-1 0 1\n",
      "-1 0 1\n"
     ]
    }
   ],
   "source": [
    "nums=[-1,0,1,2,-1,-4]     #target=0\n",
    "nums.sort()\n",
    "for i in range(0,len(nums)):\n",
    "    start=i+1\n",
    "    end=len(nums)-1\n",
    "    while(start<end):\n",
    "        if(nums[i] + nums[start] + nums[end]==0):\n",
    "            print(nums[i] , nums[start] , nums[end])\n",
    "            start+=1\n",
    "            end-=1\n",
    "        elif(nums[i] + nums[start] + nums[end]>0):\n",
    "            end-=1\n",
    "        else:\n",
    "            start+=1     "
   ]
  },
  {
   "cell_type": "markdown",
   "id": "cf607f93-b069-4233-ad7d-1bb1315d3a55",
   "metadata": {},
   "source": [
    "# Find second largest and largest number from the given list without using sort?"
   ]
  },
  {
   "cell_type": "markdown",
   "id": "5453cfbc-fc70-493c-8631-578e302518eb",
   "metadata": {},
   "source": [
    "### Method 1"
   ]
  },
  {
   "cell_type": "code",
   "execution_count": 18,
   "id": "3a84b4fc-956e-4fb0-9830-80f04f5222ff",
   "metadata": {},
   "outputs": [
    {
     "name": "stdout",
     "output_type": "stream",
     "text": [
      "Second largest: 521\n",
      "Largest: 654\n"
     ]
    }
   ],
   "source": [
    "arr=[10,25,14,6,8,1,78,521,8,654,1,2,521]\n",
    "list=[]\n",
    "for i in arr:\n",
    "    if i not in list:\n",
    "        list.append(i)\n",
    "list.sort()      \n",
    "print(\"Second largest:\",list[-2])   \n",
    "print(\"Largest:\",list[-1])"
   ]
  },
  {
   "cell_type": "markdown",
   "id": "7cecd025-5d88-4b4a-9a80-f91459cdb96c",
   "metadata": {},
   "source": [
    "### Method 2"
   ]
  },
  {
   "cell_type": "code",
   "execution_count": 124,
   "id": "ae723b44-addf-4610-a391-05cf9d546ad7",
   "metadata": {},
   "outputs": [
    {
     "name": "stdout",
     "output_type": "stream",
     "text": [
      "521\n",
      "654\n"
     ]
    }
   ],
   "source": [
    "arr=[10,25,14,6,8,1,78,521,8,654,1,2,521]\n",
    "largest=0\n",
    "second_largest=0\n",
    "for num in arr:\n",
    "    if num>largest:\n",
    "        second_largest=largest\n",
    "        largest=num\n",
    "    elif num>second_largest and num!=largest:\n",
    "        second_largest=num\n",
    "print(second_largest)    \n",
    "print(largest)"
   ]
  },
  {
   "cell_type": "code",
   "execution_count": 9,
   "id": "92287e24-8bad-4691-81c9-db1c51d2b494",
   "metadata": {},
   "outputs": [
    {
     "name": "stdout",
     "output_type": "stream",
     "text": [
      "20 10\n",
      "400 20\n",
      "second max 50\n"
     ]
    }
   ],
   "source": [
    "max=list[0]\n",
    "smax=0\n",
    "list=[10,20,3,400,50]\n",
    "for i in list:\n",
    "    if(i>max):\n",
    "        smax=max\n",
    "        max=i\n",
    "        print(max,smax)\n",
    "    elif(i>smax):\n",
    "        smax=i\n",
    "print('second max', smax)   "
   ]
  },
  {
   "cell_type": "markdown",
   "id": "65531b66-5d4b-4c91-9753-d3dd22bf616f",
   "metadata": {},
   "source": [
    "## covert a list of lists into a single a flattened list."
   ]
  },
  {
   "cell_type": "code",
   "execution_count": 125,
   "id": "4a484f24-4e13-4851-8d33-85299107aa7d",
   "metadata": {},
   "outputs": [
    {
     "name": "stdout",
     "output_type": "stream",
     "text": [
      "[1, 2, 3, 4, 5, 6, 7, 8, 9, 10, 11, 12]\n"
     ]
    }
   ],
   "source": [
    "list1=[[1,2,3,4],[5,6,7,8],[9,10,11,12]]\n",
    "flatten=[x for i in list1 for x in i]\n",
    "print(flatten)"
   ]
  },
  {
   "cell_type": "markdown",
   "id": "69419206-5562-4907-8556-507d86eb9365",
   "metadata": {},
   "source": [
    "# Dictionary"
   ]
  },
  {
   "cell_type": "code",
   "execution_count": 4,
   "id": "3999f38b-86eb-455e-8280-cfad0953e18a",
   "metadata": {},
   "outputs": [
    {
     "name": "stdout",
     "output_type": "stream",
     "text": [
      "{10: 'isha'}\n",
      "('rollno', [90, 100])\n"
     ]
    }
   ],
   "source": [
    "mydictionary={10:'isha','rollno':[90,100]}\n",
    "#x=mydictionary.pop(10)\n",
    "y=mydictionary.popitem()\n",
    "print(mydictionary)\n",
    "print(y)"
   ]
  },
  {
   "cell_type": "code",
   "execution_count": 127,
   "id": "18b8a3b6-a010-41c8-bf31-1c85c3f1544b",
   "metadata": {},
   "outputs": [
    {
     "name": "stdout",
     "output_type": "stream",
     "text": [
      "{10: 'isha', 11: 'pp', 'rollno': 99}\n"
     ]
    }
   ],
   "source": [
    "mydictionary[11]='pp'\n",
    "mydictionary['rollno']=99\n",
    "print(mydictionary)"
   ]
  },
  {
   "cell_type": "code",
   "execution_count": 56,
   "id": "e91a5898-1e7d-41ba-b0a4-e73ac01a783e",
   "metadata": {},
   "outputs": [
    {
     "data": {
      "text/plain": [
       "{10: 'isha', 20: 'aman'}"
      ]
     },
     "execution_count": 56,
     "metadata": {},
     "output_type": "execute_result"
    }
   ],
   "source": [
    "data=[(10,'isha'),(20,'aman')]\n",
    "dict(data)\n",
    "\n",
    "#type(data)"
   ]
  },
  {
   "cell_type": "code",
   "execution_count": null,
   "id": "6cacaf01-ade6-4114-9dde-e3377aecb61c",
   "metadata": {},
   "outputs": [],
   "source": [
    "# for i in range(1,10):\n",
    "#     dict[key]=value     #dict[i]=1\n",
    "#     {1:1 ,2:1 ,3:1}"
   ]
  },
  {
   "cell_type": "code",
   "execution_count": null,
   "id": "14133dfd-1dc4-41c1-94bb-f1e96f82a2d2",
   "metadata": {},
   "outputs": [],
   "source": []
  },
  {
   "cell_type": "markdown",
   "id": "49b2cfc4-0370-4d21-a2dc-8e5ff1c97a83",
   "metadata": {},
   "source": [
    "# Set"
   ]
  },
  {
   "cell_type": "code",
   "execution_count": null,
   "id": "46899964-cc87-4368-95f9-302abdcf6a82",
   "metadata": {},
   "outputs": [],
   "source": [
    "# datatype\n",
    "# unique\n",
    "# {}\n",
    "# myset=set({})    #create empty set"
   ]
  },
  {
   "cell_type": "code",
   "execution_count": 129,
   "id": "c19be7dc-e600-46a9-8c30-3ae9364e510b",
   "metadata": {},
   "outputs": [
    {
     "name": "stdout",
     "output_type": "stream",
     "text": [
      "{10, 20, 34, 30}\n"
     ]
    }
   ],
   "source": [
    "myset={10,20,30,34,10}\n",
    "print(myset)"
   ]
  },
  {
   "cell_type": "code",
   "execution_count": 130,
   "id": "cff6a5fe-84b6-4d6d-b055-0b67de812a0e",
   "metadata": {},
   "outputs": [
    {
     "name": "stdout",
     "output_type": "stream",
     "text": [
      "{34, 20, 100, 200, 10, 30}\n"
     ]
    }
   ],
   "source": [
    "myset={10,20,30,34,10}\n",
    "myset.update({100,200})\n",
    "print(myset)"
   ]
  },
  {
   "cell_type": "code",
   "execution_count": 131,
   "id": "f1cb942e-44ff-482f-a18f-e1f2c4ff0b9e",
   "metadata": {},
   "outputs": [
    {
     "data": {
      "text/plain": [
       "{10, 20, 30, 34, 200}"
      ]
     },
     "execution_count": 131,
     "metadata": {},
     "output_type": "execute_result"
    }
   ],
   "source": [
    "myset.remove(100)\n",
    "myset"
   ]
  },
  {
   "cell_type": "code",
   "execution_count": 132,
   "id": "0d67d827-f5c7-45ea-9399-658ac6f154e4",
   "metadata": {},
   "outputs": [
    {
     "data": {
      "text/plain": [
       "{10, 20}"
      ]
     },
     "execution_count": 132,
     "metadata": {},
     "output_type": "execute_result"
    }
   ],
   "source": [
    "myset={10,20,30,40,50}\n",
    "myset2={30,40,50}\n",
    "myset.difference(myset2)    #myset-myset2"
   ]
  },
  {
   "cell_type": "code",
   "execution_count": 133,
   "id": "663c3c83-c9d6-4fe7-be48-6dfe67d7c772",
   "metadata": {},
   "outputs": [
    {
     "data": {
      "text/plain": [
       "False"
      ]
     },
     "execution_count": 133,
     "metadata": {},
     "output_type": "execute_result"
    }
   ],
   "source": [
    "myset={10,20,30,40,50}\n",
    "myset2={30,40,50}\n",
    "myset.issubset(myset2)    ##myset ke sabhi element myset2 me nahi hai\n",
    "#myset.issuperset(myset2)  #myset2 k sabhi element myset me hai"
   ]
  },
  {
   "cell_type": "code",
   "execution_count": 134,
   "id": "c7176234-a48d-4221-b8c0-16fdde0971b2",
   "metadata": {},
   "outputs": [
    {
     "name": "stdout",
     "output_type": "stream",
     "text": [
      "[1, 2, 3, 4, 5, 6, 7, 8, 9]\n"
     ]
    }
   ],
   "source": [
    "newlist=[]\n",
    "for i in range(1,10):\n",
    "    newlist.append(i)\n",
    "print(newlist)"
   ]
  },
  {
   "cell_type": "code",
   "execution_count": 135,
   "id": "b43e0c05-bd23-4f48-b577-9e8f82711886",
   "metadata": {},
   "outputs": [
    {
     "data": {
      "text/plain": [
       "[2, 4, 6, 8]"
      ]
     },
     "execution_count": 135,
     "metadata": {},
     "output_type": "execute_result"
    }
   ],
   "source": [
    "[i for i in range(1,10) if i%2==0 ]  #list comprehension"
   ]
  },
  {
   "cell_type": "code",
   "execution_count": 136,
   "id": "6f003854-0934-47e8-acdc-f4510b1d5c02",
   "metadata": {},
   "outputs": [
    {
     "data": {
      "text/plain": [
       "{1, 2, 3, 4, 5, 6, 7, 8, 9}"
      ]
     },
     "execution_count": 136,
     "metadata": {},
     "output_type": "execute_result"
    }
   ],
   "source": [
    "{i for i in range(1,10)}    #set comprehension"
   ]
  },
  {
   "cell_type": "code",
   "execution_count": 137,
   "id": "0651180a-8371-4cf8-89d2-0151718e70a5",
   "metadata": {},
   "outputs": [
    {
     "data": {
      "text/plain": [
       "{1: 1, 2: 1, 3: 1, 4: 1, 5: 1, 6: 1, 7: 1, 8: 1, 9: 1}"
      ]
     },
     "execution_count": 137,
     "metadata": {},
     "output_type": "execute_result"
    }
   ],
   "source": [
    "{i :1 for i in range(1,10)}    #dictionary comprehension"
   ]
  },
  {
   "cell_type": "markdown",
   "id": "f5a1727c-3b06-44c1-93c5-c5f689f48b82",
   "metadata": {},
   "source": [
    "## list vs tuple"
   ]
  },
  {
   "cell_type": "code",
   "execution_count": 138,
   "id": "a62a6de9-c624-4c73-99ec-8d6a819486a6",
   "metadata": {},
   "outputs": [],
   "source": [
    "#list vs dictionary"
   ]
  },
  {
   "cell_type": "code",
   "execution_count": 139,
   "id": "fcb76240-407c-4a5f-9fe2-49dcd3488148",
   "metadata": {},
   "outputs": [
    {
     "data": {
      "text/plain": [
       "{1, 2, 3, 4, 5, 6}"
      ]
     },
     "execution_count": 139,
     "metadata": {},
     "output_type": "execute_result"
    }
   ],
   "source": [
    "a={1,2,3,4,5}\n",
    "a.add(6)\n",
    "a"
   ]
  },
  {
   "cell_type": "code",
   "execution_count": 140,
   "id": "6a8f4ecb-c029-4cb9-b3cc-89a004a56385",
   "metadata": {},
   "outputs": [
    {
     "data": {
      "text/plain": [
       "{1, 2, 3, 5, 6}"
      ]
     },
     "execution_count": 140,
     "metadata": {},
     "output_type": "execute_result"
    }
   ],
   "source": [
    "a.remove(4)\n",
    "a"
   ]
  },
  {
   "cell_type": "code",
   "execution_count": 143,
   "id": "3c71122c-f334-451e-b14f-4ae6455f1c9e",
   "metadata": {},
   "outputs": [
    {
     "data": {
      "text/plain": [
       "{1, 2, 3, 4, 5, 8, 9, 10}"
      ]
     },
     "execution_count": 143,
     "metadata": {},
     "output_type": "execute_result"
    }
   ],
   "source": [
    "a={1,2,3,4,5}\n",
    "b={2,3,8,9,10}\n",
    "a.union(b)  #union---> |"
   ]
  },
  {
   "cell_type": "code",
   "execution_count": 142,
   "id": "af69c80e-e0ec-4a41-91ec-8aa29c3fddd0",
   "metadata": {},
   "outputs": [
    {
     "data": {
      "text/plain": [
       "{2, 3}"
      ]
     },
     "execution_count": 142,
     "metadata": {},
     "output_type": "execute_result"
    }
   ],
   "source": [
    "a={1,2,3,4,5}\n",
    "b={2,3,8,9,10}\n",
    "a.intersection(b)      #intersection--->&"
   ]
  },
  {
   "cell_type": "code",
   "execution_count": 144,
   "id": "b127e1e0-cfff-47ed-a2a5-c764c8ef1a12",
   "metadata": {},
   "outputs": [
    {
     "data": {
      "text/plain": [
       "set()"
      ]
     },
     "execution_count": 144,
     "metadata": {},
     "output_type": "execute_result"
    }
   ],
   "source": [
    "a.clear()\n",
    "a"
   ]
  },
  {
   "cell_type": "code",
   "execution_count": 55,
   "id": "b12e37b5-b173-4437-ae58-0b72e85fce07",
   "metadata": {},
   "outputs": [
    {
     "name": "stdout",
     "output_type": "stream",
     "text": [
      "5\n",
      "1\n"
     ]
    },
    {
     "data": {
      "text/plain": [
       "5"
      ]
     },
     "execution_count": 55,
     "metadata": {},
     "output_type": "execute_result"
    }
   ],
   "source": [
    "a={1,2,3,4,5}\n",
    "print(max(a))\n",
    "print(min(a))\n",
    "len(a)"
   ]
  },
  {
   "cell_type": "code",
   "execution_count": 149,
   "id": "6bcfe0de-07f4-4943-8217-a4a17afb884e",
   "metadata": {},
   "outputs": [
    {
     "data": {
      "text/plain": [
       "{1, 2, 3, 4.5, 6.7}"
      ]
     },
     "execution_count": 149,
     "metadata": {},
     "output_type": "execute_result"
    }
   ],
   "source": [
    "a={1,2,3,4.5,6.7,'hello'}\n",
    "a.remove('hello')\n",
    "a"
   ]
  },
  {
   "cell_type": "code",
   "execution_count": 150,
   "id": "06619bbd-7fb9-4d49-b821-bdf7aa399943",
   "metadata": {},
   "outputs": [
    {
     "data": {
      "text/plain": [
       "1"
      ]
     },
     "execution_count": 150,
     "metadata": {},
     "output_type": "execute_result"
    }
   ],
   "source": [
    "a={1,2,3,4,5}   #remove random element\n",
    "a.pop()"
   ]
  },
  {
   "cell_type": "code",
   "execution_count": 151,
   "id": "106d97bf-8d83-4371-b9ba-ea15697c17cd",
   "metadata": {},
   "outputs": [
    {
     "data": {
      "text/plain": [
       "{8, 9, 10}"
      ]
     },
     "execution_count": 151,
     "metadata": {},
     "output_type": "execute_result"
    }
   ],
   "source": [
    "a={1,2,3,4,5}\n",
    "b={2,3,8,9,10}\n",
    "b-a"
   ]
  },
  {
   "cell_type": "code",
   "execution_count": 152,
   "id": "ee507536-7ccf-47a4-b989-655cad964cf8",
   "metadata": {},
   "outputs": [
    {
     "name": "stdout",
     "output_type": "stream",
     "text": [
      "True\n"
     ]
    }
   ],
   "source": [
    "a={1,2,3,4.5,6.7,'hello'}\n",
    "print('hello'in a)"
   ]
  },
  {
   "cell_type": "markdown",
   "id": "11f7a225-8d5b-434a-b1ef-67810368c1ed",
   "metadata": {},
   "source": [
    "# Membership and identity"
   ]
  },
  {
   "cell_type": "code",
   "execution_count": 153,
   "id": "1771aeb8-fbaa-478b-9631-a18965a601c8",
   "metadata": {},
   "outputs": [
    {
     "data": {
      "text/plain": [
       "True"
      ]
     },
     "execution_count": 153,
     "metadata": {},
     "output_type": "execute_result"
    }
   ],
   "source": [
    "# Membership\n",
    "60 in [1,2,3,4,60]    #it takes iteator\n",
    "\n",
    "#60 in 40   #wrong"
   ]
  },
  {
   "cell_type": "code",
   "execution_count": 154,
   "id": "9ebe1b0b-4bc0-4dd6-9344-5d91a6c80456",
   "metadata": {},
   "outputs": [
    {
     "name": "stdout",
     "output_type": "stream",
     "text": [
      "140714199418056 140714199418056\n"
     ]
    },
    {
     "data": {
      "text/plain": [
       "True"
      ]
     },
     "execution_count": 154,
     "metadata": {},
     "output_type": "execute_result"
    }
   ],
   "source": [
    "x=10\n",
    "a=x\n",
    "print(id(a),id(x))   #memory address same\n",
    "x is a"
   ]
  },
  {
   "cell_type": "code",
   "execution_count": null,
   "id": "7e30ae4d-9e4f-45cc-bb06-64e62fedc482",
   "metadata": {},
   "outputs": [],
   "source": []
  },
  {
   "cell_type": "code",
   "execution_count": 155,
   "id": "0fea8aa6-87b9-4cff-b893-956f2d5c8d6f",
   "metadata": {},
   "outputs": [
    {
     "name": "stdout",
     "output_type": "stream",
     "text": [
      "140714199425928 140714199425928\n"
     ]
    }
   ],
   "source": [
    "#0-256\n",
    "x=256\n",
    "a=256\n",
    "print(id(a),id(x))"
   ]
  },
  {
   "cell_type": "code",
   "execution_count": 156,
   "id": "b57b6f20-cfcc-4bc3-ac93-e9e3fa11645a",
   "metadata": {},
   "outputs": [
    {
     "name": "stdout",
     "output_type": "stream",
     "text": [
      "2026979926256 2026979926256\n"
     ]
    },
    {
     "data": {
      "text/plain": [
       "True"
      ]
     },
     "execution_count": 156,
     "metadata": {},
     "output_type": "execute_result"
    }
   ],
   "source": [
    "x=257\n",
    "a=x\n",
    "print(id(a),id(x))\n",
    "a is x"
   ]
  },
  {
   "cell_type": "code",
   "execution_count": 157,
   "id": "0d27f58b-5e9f-45d7-93dd-270ee8e473dc",
   "metadata": {},
   "outputs": [],
   "source": [
    "# python me call by object reference chalta hai."
   ]
  },
  {
   "cell_type": "markdown",
   "id": "5ba1a711-1e03-4064-b1cd-7eee87c79220",
   "metadata": {},
   "source": [
    "# Functions"
   ]
  },
  {
   "cell_type": "code",
   "execution_count": 158,
   "id": "a009d710-1638-40c1-852f-731e634e5acb",
   "metadata": {},
   "outputs": [],
   "source": [
    "# collection of statment\n",
    "# write logic --> use it multiple time\n",
    "# code reuseability\n",
    "# def function_name():\n",
    "#     logic\n",
    "# function_name()    \n"
   ]
  },
  {
   "cell_type": "code",
   "execution_count": 159,
   "id": "84e4485a-d759-448c-a1f1-15c25147be59",
   "metadata": {},
   "outputs": [],
   "source": [
    "# global variable hai agar vairable change kiya to function k bahar bhi consitent dikhta hai.\n",
    "# local vairble me koi change krenge to wo global varibale me change nhi hoga"
   ]
  },
  {
   "cell_type": "code",
   "execution_count": 7,
   "id": "ff868109-46a9-4537-aa52-d7b0797d277a",
   "metadata": {},
   "outputs": [
    {
     "name": "stdout",
     "output_type": "stream",
     "text": [
      "20\n",
      "10\n",
      "20\n"
     ]
    }
   ],
   "source": [
    "y=20\n",
    "def func():\n",
    "    x=10 \n",
    "    print(y)    # local scope===variable declare inside the function\n",
    "    print(x)\n",
    "func()    \n",
    "# print(x) \n",
    "print(y)"
   ]
  },
  {
   "cell_type": "code",
   "execution_count": 161,
   "id": "1bf9531d-562b-44b6-89d8-63dd401bd318",
   "metadata": {},
   "outputs": [
    {
     "name": "stdout",
     "output_type": "stream",
     "text": [
      "local vairable 10\n",
      "outside function 500\n"
     ]
    }
   ],
   "source": [
    "def func():\n",
    "    global y    # global---> inside varible declare karne ke baad \n",
    "    x1=10       #            bhi bahar access kr sakte hai. \n",
    "    y=500\n",
    "    print('local vairable',x1)\n",
    "func()\n",
    "print('outside function',y)"
   ]
  },
  {
   "cell_type": "code",
   "execution_count": 162,
   "id": "c4933ba4-4e00-4f6e-93f2-65832d960d7b",
   "metadata": {},
   "outputs": [
    {
     "name": "stdout",
     "output_type": "stream",
     "text": [
      "hey 26 sam\n"
     ]
    }
   ],
   "source": [
    "#type hint\n",
    "def func(z:int,y:str):\n",
    "    print(\"hey\",y,z)\n",
    "func('sam',26)    "
   ]
  },
  {
   "cell_type": "markdown",
   "id": "596f5f0a-e17f-4f2a-bf3b-aec6ec836631",
   "metadata": {},
   "source": [
    "# Practice question "
   ]
  },
  {
   "cell_type": "markdown",
   "id": "5dd3e9b6-feaa-49c2-9116-73b9d52b943f",
   "metadata": {},
   "source": [
    "### Q1\n",
    "### l1=[10,20,300]\n",
    "### l2=[40,50,60]\n",
    "### {10:40,  20:50,  300:60}\n",
    "### note using zip and without zip"
   ]
  },
  {
   "cell_type": "code",
   "execution_count": 164,
   "id": "8e9bf8e2-c3a1-4fa2-928d-b68aca356f8f",
   "metadata": {
    "scrolled": true
   },
   "outputs": [
    {
     "name": "stdout",
     "output_type": "stream",
     "text": [
      "{10: 40, 20: 50, 300: 60}\n"
     ]
    }
   ],
   "source": [
    "l1=[10,20,300]\n",
    "l2=[40,50,60]\n",
    "dict={}\n",
    "for i in range(len(l1)):\n",
    "    dict[l1[i]]=l2[i]\n",
    "print(dict)"
   ]
  },
  {
   "cell_type": "code",
   "execution_count": 8,
   "id": "22359485-ecca-4cb8-af85-f2f84f1f434b",
   "metadata": {},
   "outputs": [
    {
     "name": "stdout",
     "output_type": "stream",
     "text": [
      "{10: 40, 20: 50, 300: 60}\n"
     ]
    }
   ],
   "source": [
    "l1=[10,20,300]\n",
    "l2=[40,50,60]\n",
    "mylist=dict(zip(l1,l2))\n",
    "print(mylist)"
   ]
  },
  {
   "cell_type": "markdown",
   "id": "23f7c817-8fd4-4126-8be2-28465e3b881a",
   "metadata": {},
   "source": [
    "### Q2 {name: marks .. . . . .  ======>} multiple elements\n",
    "### now take a input from the user for score variable\n",
    "### print the key who have more value then the score variable"
   ]
  },
  {
   "cell_type": "code",
   "execution_count": 167,
   "id": "385e9a6c-dab3-425d-8711-613cf2726e0d",
   "metadata": {},
   "outputs": [
    {
     "name": "stdin",
     "output_type": "stream",
     "text": [
      "enter here marks:  85\n"
     ]
    },
    {
     "name": "stdout",
     "output_type": "stream",
     "text": [
      "sam 90\n",
      "pallavi 92\n",
      "rahul 85\n",
      "saurabh 89\n"
     ]
    }
   ],
   "source": [
    "dict={'sam':90,'pallavi':92,'rahul':85,'saurabh':89,'udit':75,'sonam':73}\n",
    "marks=int(input(\"enter here marks: \"))\n",
    "for key,value in dict.items():\n",
    "    if value >= marks:\n",
    "        print(key,value)\n"
   ]
  },
  {
   "cell_type": "markdown",
   "id": "98ef4260-2756-41d5-87d9-499540974ed9",
   "metadata": {},
   "source": [
    "### Q3 {10:19,  11:20,  13:NONE}\n",
    "### delete the key-value pair where the value is none"
   ]
  },
  {
   "cell_type": "code",
   "execution_count": 3,
   "id": "f867608e-528b-463e-a8c1-b7c9463efb91",
   "metadata": {},
   "outputs": [
    {
     "name": "stdout",
     "output_type": "stream",
     "text": [
      "{10: 19, 11: 20}\n"
     ]
    }
   ],
   "source": [
    "dict={10:19, 11:20, 13:'none'}\n",
    "dict.popitem()\n",
    "print(dict)"
   ]
  },
  {
   "cell_type": "code",
   "execution_count": 2,
   "id": "42454eea-397b-403f-a6e7-fc4669b93ef6",
   "metadata": {},
   "outputs": [
    {
     "name": "stdout",
     "output_type": "stream",
     "text": [
      "{10: 19, 11: 20}\n"
     ]
    }
   ],
   "source": [
    "dict={10:19, 11:20, 13:'none'}\n",
    "result={key:value for key,value in dict.items()if value!='none'}\n",
    "print(result)"
   ]
  },
  {
   "cell_type": "markdown",
   "id": "5dcc5711-35eb-4854-acec-a917c4a21fba",
   "metadata": {},
   "source": [
    "### Q4: {\"x\":5, \"y\":7, \"z\":10}\n",
    "### print new dictionary as square of each key {x:25, y:49,  z:100}"
   ]
  },
  {
   "cell_type": "code",
   "execution_count": 4,
   "id": "53b0e790-5b15-4c59-8f8c-d90a1d95f41d",
   "metadata": {},
   "outputs": [
    {
     "name": "stdout",
     "output_type": "stream",
     "text": [
      "{'x': 25, 'y': 49, 'z': 100}\n"
     ]
    }
   ],
   "source": [
    "dict={\"x\":5, \"y\":7, \"z\":10}\n",
    "square={key:value**2 for key,value in dict.items()}\n",
    "print(square)"
   ]
  },
  {
   "cell_type": "markdown",
   "id": "81797e2d-5e9e-4fdd-be06-1229ae3c7657",
   "metadata": {},
   "source": [
    "### Q5\n",
    "### create a dictionary as cube of number from 1 to 5\n",
    "### {1:1, 2:8, 3:27, 4:64, 5:125}\n",
    "### Note use only thing we have learnt"
   ]
  },
  {
   "cell_type": "code",
   "execution_count": 5,
   "id": "2b00b313-58a1-442e-95ba-9657a5164155",
   "metadata": {},
   "outputs": [
    {
     "name": "stdout",
     "output_type": "stream",
     "text": [
      "{1: 1, 2: 8, 3: 27, 4: 64, 5: 125}\n"
     ]
    }
   ],
   "source": [
    "dict={i:i**3 for i in range(1,6)}\n",
    "print(dict)"
   ]
  },
  {
   "cell_type": "markdown",
   "id": "1af5009b-ebfd-48d4-9447-7bb9975b5537",
   "metadata": {},
   "source": [
    "### Q6 {\"x\":5, \"y\":7, \"z\":10}\n",
    "### get the ans in new dictionary {\"average\":7.3 ,   \"max\":10}"
   ]
  },
  {
   "cell_type": "code",
   "execution_count": 6,
   "id": "c1dd7012-6ccb-45c5-9047-2cfd65f7ec30",
   "metadata": {},
   "outputs": [
    {
     "name": "stdout",
     "output_type": "stream",
     "text": [
      "{'average': 7.333333333333333, 'max': 10}\n"
     ]
    }
   ],
   "source": [
    "dict={\"x\":5, \"y\":7, \"z\":10}\n",
    "total=0\n",
    "largest=0\n",
    "for i in dict.values():\n",
    "    total=total+i\n",
    "    result=total/len(dict)\n",
    "    if i >largest:\n",
    "        largest=i\n",
    "new_dict={'average':result,'max':largest}      \n",
    "print(new_dict)\n"
   ]
  },
  {
   "cell_type": "markdown",
   "id": "abb8c051-2790-410b-ab1f-e7ec97a9500d",
   "metadata": {},
   "source": [
    "# function"
   ]
  },
  {
   "cell_type": "code",
   "execution_count": 7,
   "id": "60c22fb8-a0aa-42a2-8eba-a9e7796945fc",
   "metadata": {},
   "outputs": [
    {
     "name": "stdout",
     "output_type": "stream",
     "text": [
      "x=> 19 20\n",
      "x=> 10 19\n"
     ]
    }
   ],
   "source": [
    "def func(x,y):\n",
    "    print('x=>',x,y)\n",
    "\n",
    "func(19,20)   #position argument\n",
    "func(x=10,y=19)   #keyword argument\n",
    "    "
   ]
  },
  {
   "cell_type": "code",
   "execution_count": 18,
   "id": "473c4e37-7f4c-4864-80d6-b200c35d67bb",
   "metadata": {},
   "outputs": [
    {
     "name": "stdout",
     "output_type": "stream",
     "text": [
      "<function func at 0x000002194085A700> <function func at 0x000002194085A700>\n",
      "hey tushar\n"
     ]
    }
   ],
   "source": [
    "def func():\n",
    "    print('hey tushar')\n",
    "\n",
    "a=func      #first class function\n",
    "print(func,a)   # memory address print krega\n",
    "a()"
   ]
  },
  {
   "cell_type": "code",
   "execution_count": 19,
   "id": "9f60ca5a-5f51-4f99-8107-68dd4a1688ec",
   "metadata": {},
   "outputs": [
    {
     "name": "stdout",
     "output_type": "stream",
     "text": [
      "this is test function\n",
      "this is regex function None\n"
     ]
    }
   ],
   "source": [
    "# high order function\n",
    "def test():\n",
    "    print(\"this is test function\")\n",
    "\n",
    "def regex(x):\n",
    "    print('this is regex function',x)\n",
    "\n",
    "regex(test())    "
   ]
  },
  {
   "cell_type": "markdown",
   "id": "91adb970-3d08-46ef-9b06-4fe4e6a5148e",
   "metadata": {},
   "source": [
    "# *args"
   ]
  },
  {
   "cell_type": "code",
   "execution_count": 10,
   "id": "75d7dc72-2138-4f8c-b226-41b29ad72b36",
   "metadata": {},
   "outputs": [
    {
     "name": "stdout",
     "output_type": "stream",
     "text": [
      "()\n",
      "(10,)\n",
      "(1, 2, 3, 4, 5)\n"
     ]
    }
   ],
   "source": [
    "#*args==> vaiable length argument\n",
    "def func(*a):\n",
    "    print(a)\n",
    "func()\n",
    "func(10)\n",
    "func(1,2,3,4,5)"
   ]
  },
  {
   "cell_type": "code",
   "execution_count": 11,
   "id": "d636f192-b8e5-4b89-8523-1878c284e817",
   "metadata": {},
   "outputs": [
    {
     "name": "stdout",
     "output_type": "stream",
     "text": [
      "x= 15 y= 10\n"
     ]
    }
   ],
   "source": [
    "def func(x,y=10):    #default argument\n",
    "    print('x=',x ,'y=',y)\n",
    "func(15)    "
   ]
  },
  {
   "cell_type": "code",
   "execution_count": 12,
   "id": "547ad767-f80a-4124-b96c-d5dd967cdbcc",
   "metadata": {},
   "outputs": [
    {
     "name": "stdout",
     "output_type": "stream",
     "text": [
      "{'userid': 10}\n",
      "{'salary': 199, 'userid': 15}\n"
     ]
    }
   ],
   "source": [
    "#kwargs-->keyword variable length argument\n",
    "def func(**a):\n",
    "    print(a)\n",
    "func(userid=10) \n",
    "func(salary=199,userid=15)"
   ]
  },
  {
   "cell_type": "markdown",
   "id": "38d56728-90aa-40bf-be89-1b11a56dadda",
   "metadata": {},
   "source": [
    "# lambda function\n",
    "# anonymous -->one line function\n",
    "# lambda   parameter : expression"
   ]
  },
  {
   "cell_type": "code",
   "execution_count": 22,
   "id": "05eed8fe-ff8e-4ed5-b0f1-55267725242a",
   "metadata": {},
   "outputs": [
    {
     "name": "stdout",
     "output_type": "stream",
     "text": [
      "<function func at 0x0000021940DFA0C0>\n"
     ]
    }
   ],
   "source": [
    "def func(x):\n",
    "    print('abc')\n",
    "print(func)    "
   ]
  },
  {
   "cell_type": "code",
   "execution_count": 14,
   "id": "96c7fcdd-7c30-423d-ab6f-dcc7ba7fdc21",
   "metadata": {},
   "outputs": [
    {
     "name": "stdout",
     "output_type": "stream",
     "text": [
      "<function <lambda> at 0x000002194085B2E0>\n"
     ]
    }
   ],
   "source": [
    "print(lambda x:'abc')"
   ]
  },
  {
   "cell_type": "code",
   "execution_count": 170,
   "id": "d775433e-5464-4cc3-8d92-c83dbb54cbd1",
   "metadata": {},
   "outputs": [
    {
     "data": {
      "text/plain": [
       "'abc'"
      ]
     },
     "execution_count": 170,
     "metadata": {},
     "output_type": "execute_result"
    }
   ],
   "source": [
    "u1=lambda x: 'abc'\n",
    "u1(10)"
   ]
  },
  {
   "cell_type": "code",
   "execution_count": 171,
   "id": "3b2a9f3a-9938-48c9-aace-09a322794fca",
   "metadata": {},
   "outputs": [
    {
     "data": {
      "text/plain": [
       "'side'"
      ]
     },
     "execution_count": 171,
     "metadata": {},
     "output_type": "execute_result"
    }
   ],
   "source": [
    "# Access the last word.\n",
    "u2=lambda x: x.split(' ')[-1]\n",
    "u2('hey tushar this side')"
   ]
  },
  {
   "cell_type": "code",
   "execution_count": 23,
   "id": "ff3cde74-cec4-4320-845c-38ecb8495026",
   "metadata": {},
   "outputs": [
    {
     "name": "stdout",
     "output_type": "stream",
     "text": [
      "inside- side\n"
     ]
    }
   ],
   "source": [
    "def func(x):\n",
    "    print('inside-',x.split(' ')[-1])\n",
    "func('hey tushar this side')    "
   ]
  },
  {
   "cell_type": "code",
   "execution_count": 173,
   "id": "f60c2302-5539-47a6-8cd9-d4576bffaa06",
   "metadata": {},
   "outputs": [
    {
     "name": "stdout",
     "output_type": "stream",
     "text": [
      "user ['tushar', 'here'] hey\n"
     ]
    }
   ],
   "source": [
    "#'hey tushar here user'  ---> 'user tushar here hey'\n",
    "mylist='hey tushar here user'.split(' ')\n",
    "print(mylist[-1],mylist[1:3],mylist[0])"
   ]
  },
  {
   "cell_type": "code",
   "execution_count": 174,
   "id": "74bd2898-bf76-4963-be7e-a3a78659c063",
   "metadata": {},
   "outputs": [
    {
     "name": "stdout",
     "output_type": "stream",
     "text": [
      "inside 23\n",
      "None\n"
     ]
    }
   ],
   "source": [
    "def func(a):\n",
    "    print('inside',a+5)\n",
    "print(func(18))    "
   ]
  },
  {
   "cell_type": "code",
   "execution_count": 175,
   "id": "8eb313d2-0e5b-4e63-a55a-8174d8d77c9a",
   "metadata": {},
   "outputs": [],
   "source": [
    "#return--> jo bhi logic likha hai us logic ki value ko vapas dena jise use use kiya jaa sake"
   ]
  },
  {
   "cell_type": "code",
   "execution_count": 176,
   "id": "f39259cc-4e12-4848-94af-19f23285f9b1",
   "metadata": {},
   "outputs": [
    {
     "name": "stdout",
     "output_type": "stream",
     "text": [
      "('inside', 23)\n"
     ]
    }
   ],
   "source": [
    "def func(a):\n",
    "    return'inside',a+5   # return-->value kisi variable m assign ho jaati h \n",
    "                        #   aur us value ko use kiya jaa sakte hai.\n",
    "print(func(18))"
   ]
  },
  {
   "cell_type": "code",
   "execution_count": 177,
   "id": "6be0db45-ff44-42b1-b255-04170a9d7e98",
   "metadata": {},
   "outputs": [
    {
     "name": "stdout",
     "output_type": "stream",
     "text": [
      "23\n"
     ]
    }
   ],
   "source": [
    "def func(a):\n",
    "    return a+5    # value ko store krna . \n",
    "out=func(18)\n",
    "print(out)"
   ]
  },
  {
   "cell_type": "markdown",
   "id": "83621bb2-4e8e-477c-a7db-b765311405cc",
   "metadata": {},
   "source": [
    "# Map & Filter"
   ]
  },
  {
   "cell_type": "code",
   "execution_count": 178,
   "id": "22c6413d-b08c-453f-a442-55c4413828f4",
   "metadata": {},
   "outputs": [
    {
     "name": "stdout",
     "output_type": "stream",
     "text": [
      "15\n",
      "107\n",
      "8\n"
     ]
    }
   ],
   "source": [
    "def func(a):\n",
    "    return a+5\n",
    "mylist=[10,102,3,4,56]\n",
    "x=map(func,mylist)\n",
    "print(next(x))\n",
    "print(next(x))\n",
    "print(next(x))\n"
   ]
  },
  {
   "cell_type": "code",
   "execution_count": 179,
   "id": "5e1e1f65-5678-4d4e-83b1-313310eea3ec",
   "metadata": {},
   "outputs": [
    {
     "name": "stdout",
     "output_type": "stream",
     "text": [
      "15\n",
      "107\n"
     ]
    }
   ],
   "source": [
    "mylist=[10,102,3,4,56]\n",
    "x=map(lambda a:a+5,mylist)\n",
    "print(next(x))\n",
    "print(next(x))"
   ]
  },
  {
   "cell_type": "code",
   "execution_count": 180,
   "id": "93a0c373-b1c0-4a4e-b7a1-f29a23c17fa9",
   "metadata": {},
   "outputs": [
    {
     "name": "stdout",
     "output_type": "stream",
     "text": [
      "False\n",
      "True\n"
     ]
    }
   ],
   "source": [
    "mylist=[1,2,3,4,5,6]\n",
    "x=map(lambda a:a%2==0,mylist)\n",
    "print(next(x))\n",
    "print(next(x))\n"
   ]
  },
  {
   "cell_type": "code",
   "execution_count": 3,
   "id": "e4e2ee25-bdb7-415d-b520-3d306b49321f",
   "metadata": {},
   "outputs": [
    {
     "name": "stdout",
     "output_type": "stream",
     "text": [
      "[False, True, False, True, False, True]\n"
     ]
    }
   ],
   "source": [
    "mylist=[1,2,3,4,5,6]\n",
    "result=list(map(lambda a:a%2==0,mylist))\n",
    "print(result)"
   ]
  },
  {
   "cell_type": "code",
   "execution_count": 2,
   "id": "7439a4a6-971c-4f8f-8106-7fcc3dae9e79",
   "metadata": {},
   "outputs": [
    {
     "data": {
      "text/plain": [
       "[2, 4, 6]"
      ]
     },
     "execution_count": 2,
     "metadata": {},
     "output_type": "execute_result"
    }
   ],
   "source": [
    "mylist=[1,2,3,4,5,6]\n",
    "list(filter(lambda a:a%2==0,mylist))"
   ]
  },
  {
   "cell_type": "markdown",
   "id": "9ce6d822-9117-4c94-93ba-69c805ea0159",
   "metadata": {},
   "source": [
    "# Generator"
   ]
  },
  {
   "cell_type": "code",
   "execution_count": 8,
   "id": "f8520a9c-5eb0-4d97-9778-dfb1b53102dc",
   "metadata": {},
   "outputs": [
    {
     "name": "stdout",
     "output_type": "stream",
     "text": [
      "first line\n",
      "1\n"
     ]
    }
   ],
   "source": [
    "def func():\n",
    "    print('first line')\n",
    "    yield 1\n",
    "#func()     ## kisi variable me store krna important hai\n",
    "gen=func() \n",
    "print(next(gen))"
   ]
  },
  {
   "cell_type": "code",
   "execution_count": 3,
   "id": "99e348c3-504c-4877-a301-26451d8c4db9",
   "metadata": {},
   "outputs": [
    {
     "name": "stdout",
     "output_type": "stream",
     "text": [
      "first line\n",
      "1\n",
      "second line\n",
      "2\n"
     ]
    }
   ],
   "source": [
    "def func():\n",
    "    print('first line')\n",
    "    yield 1\n",
    "    print('second line')\n",
    "    yield 2\n",
    "gen=func() \n",
    "print(next(gen))    \n",
    "print(next(gen)) \n",
    "# for i in gen:        # we call next value through loop\n",
    "#     print(i)"
   ]
  },
  {
   "cell_type": "markdown",
   "id": "775f548b-7279-4fe5-9cfb-859f94e10f75",
   "metadata": {},
   "source": [
    "# Fibbonaci series"
   ]
  },
  {
   "cell_type": "code",
   "execution_count": 12,
   "id": "f14cb278-536b-4933-b2e0-1e3abcb0296f",
   "metadata": {},
   "outputs": [
    {
     "name": "stdout",
     "output_type": "stream",
     "text": [
      "0\n",
      "1\n",
      "1\n",
      "2\n",
      "3\n",
      "5\n",
      "8\n",
      "13\n",
      "21\n"
     ]
    }
   ],
   "source": [
    "def func():\n",
    "    a=0\n",
    "    b=1\n",
    "    for i in range(1,10):\n",
    "        yield a\n",
    "        c=a+b\n",
    "        a=b\n",
    "        b=c\n",
    "gen=func()        \n",
    "for i in gen:\n",
    "    print(i) "
   ]
  },
  {
   "cell_type": "markdown",
   "id": "bece0b7d-42c3-4bff-91a0-545b9ae6dcda",
   "metadata": {},
   "source": [
    "# iterator ---> value ko access karna\n",
    "# iterable(datatype)---> value per loop chalna\n",
    "    "
   ]
  },
  {
   "cell_type": "code",
   "execution_count": 13,
   "id": "dabc5c98-cae7-45a4-8f8a-d95f2f761b06",
   "metadata": {},
   "outputs": [
    {
     "name": "stdout",
     "output_type": "stream",
     "text": [
      "0\n",
      "1\n",
      "1\n",
      "2\n",
      "3\n",
      "5\n",
      "8\n",
      "13\n",
      "21\n"
     ]
    }
   ],
   "source": [
    "a=0\n",
    "b=1\n",
    "for i in range(1,10):\n",
    "        print(a)\n",
    "        c=a+b\n",
    "        a=b\n",
    "        b=c"
   ]
  },
  {
   "cell_type": "markdown",
   "id": "30d51aa1-5b3f-479b-9965-13167ca7058c",
   "metadata": {},
   "source": [
    "# Decorator\n"
   ]
  },
  {
   "cell_type": "code",
   "execution_count": 5,
   "id": "347d0d5d-0db8-4ade-ad78-17e379c5dafa",
   "metadata": {},
   "outputs": [
    {
     "data": {
      "text/plain": [
       "11"
      ]
     },
     "execution_count": 5,
     "metadata": {},
     "output_type": "execute_result"
    }
   ],
   "source": [
    "def func_add(num):\n",
    "    return num+1\n",
    "x=func_add\n",
    "x(10)    "
   ]
  },
  {
   "cell_type": "code",
   "execution_count": 19,
   "id": "b22e47c5-2bae-4fc4-86de-241dcacbc279",
   "metadata": {},
   "outputs": [
    {
     "name": "stdout",
     "output_type": "stream",
     "text": [
      "None\n"
     ]
    }
   ],
   "source": [
    "def func_add(num):\n",
    "    def add_one(n):\n",
    "        print('n value',n)\n",
    "x=func_add(10)                 ##return nhi diya\n",
    "print(x)"
   ]
  },
  {
   "cell_type": "code",
   "execution_count": 17,
   "id": "5cea8ed9-7ad1-456d-b412-ab80793019b0",
   "metadata": {},
   "outputs": [
    {
     "data": {
      "text/plain": [
       "'HELLO TUSHAR'"
      ]
     },
     "execution_count": 17,
     "metadata": {},
     "output_type": "execute_result"
    }
   ],
   "source": [
    "def func_add(func):\n",
    "    def add_one():\n",
    "        result=func()\n",
    "        result2=result.upper()\n",
    "        return result2\n",
    "\n",
    "    return add_one\n",
    "\n",
    "@func_add         #Decorator\n",
    "def test():\n",
    "    return 'hello tushAR'\n",
    "\n",
    "test()    "
   ]
  },
  {
   "cell_type": "markdown",
   "id": "c59569aa-0b1d-4e9b-94f7-aff9062cb7a3",
   "metadata": {},
   "source": [
    "# Closures"
   ]
  },
  {
   "cell_type": "code",
   "execution_count": 7,
   "id": "cc88b79b-fd83-43f8-83ed-66e64f259272",
   "metadata": {},
   "outputs": [
    {
     "name": "stdout",
     "output_type": "stream",
     "text": [
      "n value 19 10\n"
     ]
    }
   ],
   "source": [
    "def func_add(num):\n",
    "    def add_one(n):\n",
    "        print('n value',n,num)  # we access (num) value which is\n",
    "    return  add_one             #  the parameter of outer function\n",
    "  \n",
    "x=func_add(10)                 \n",
    "x(19)"
   ]
  },
  {
   "cell_type": "code",
   "execution_count": 15,
   "id": "592de364-39f2-497f-a99f-7ccf91fc9d95",
   "metadata": {},
   "outputs": [
    {
     "name": "stdout",
     "output_type": "stream",
     "text": [
      "n value 19 10\n"
     ]
    }
   ],
   "source": [
    "def func_add(func):\n",
    "    def add_one(n):\n",
    "        print('n value',n,func)\n",
    "    return add_one  \n",
    "\n",
    "#normal function\n",
    "def test():\n",
    "    return 'hey'\n",
    "\n",
    "output=func_add(10)\n",
    "output(19)"
   ]
  },
  {
   "cell_type": "code",
   "execution_count": 16,
   "id": "f608daee-5ac5-4176-8397-a7c17b804954",
   "metadata": {},
   "outputs": [
    {
     "name": "stdout",
     "output_type": "stream",
     "text": [
      "inside add_one func value: hey\n"
     ]
    }
   ],
   "source": [
    "def func_add(func):\n",
    "    def add_one():\n",
    "        print('inside add_one func value:',func())\n",
    "    return add_one  \n",
    "\n",
    "#normal function\n",
    "def test():\n",
    "    return 'hey'\n",
    "\n",
    "output=func_add(test)\n",
    "output()\n",
    "    "
   ]
  },
  {
   "cell_type": "code",
   "execution_count": 21,
   "id": "8393fa5f-1f2f-40ac-ac21-7906fb90cf20",
   "metadata": {},
   "outputs": [
    {
     "data": {
      "text/plain": [
       "'HELLO TUSHAR'"
      ]
     },
     "execution_count": 21,
     "metadata": {},
     "output_type": "execute_result"
    }
   ],
   "source": [
    "def func_add(func):\n",
    "    def add_one():\n",
    "        result=func()\n",
    "        result2=result.upper()\n",
    "        return result2\n",
    "    return add_one    \n",
    "\n",
    "#normal function\n",
    "def test():\n",
    "    return \"hello tushar\"\n",
    "\n",
    "output=func_add(test)\n",
    "output()"
   ]
  },
  {
   "cell_type": "markdown",
   "id": "19ebfdce-012a-47ad-9fe5-42805aa3cf55",
   "metadata": {},
   "source": [
    "# List question"
   ]
  },
  {
   "cell_type": "markdown",
   "id": "fe60ab08-e6cc-4278-9deb-17ffc9421f96",
   "metadata": {},
   "source": [
    "### 1. Write a Python program to find the maximum element in a list of numbers without\n",
    "### max functions\n",
    "### numbers = [10, 20, 4, 45, 99]\n",
    "### The maximum element is: 99"
   ]
  },
  {
   "cell_type": "markdown",
   "id": "aa093c27-bfea-491e-adbd-899563998cc7",
   "metadata": {},
   "source": [
    "#### METHOD--1."
   ]
  },
  {
   "cell_type": "code",
   "execution_count": 20,
   "id": "be886e3c-341c-4612-8f77-acb77a50f32a",
   "metadata": {},
   "outputs": [
    {
     "name": "stdout",
     "output_type": "stream",
     "text": [
      "Largest numbers: 99\n"
     ]
    }
   ],
   "source": [
    "numbers = [10, 20, 4, 45, 99]\n",
    "numbers.sort()\n",
    "print('Largest numbers:',numbers[-1])"
   ]
  },
  {
   "cell_type": "markdown",
   "id": "00fac81a-c894-4403-8624-e563d1026074",
   "metadata": {},
   "source": [
    "#### METHOD--2."
   ]
  },
  {
   "cell_type": "code",
   "execution_count": 21,
   "id": "f2b532e7-4025-462f-a81f-0f087ecbee07",
   "metadata": {},
   "outputs": [
    {
     "name": "stdout",
     "output_type": "stream",
     "text": [
      "Largest Number: 99\n"
     ]
    }
   ],
   "source": [
    "numbers = [10, 20, 4, 45, 99]\n",
    "largest=0\n",
    "for num in numbers:\n",
    "    if num>largest:\n",
    "        largest=num\n",
    "print('Largest Number:',largest)        "
   ]
  },
  {
   "cell_type": "markdown",
   "id": "65eb112e-2687-499b-9e06-f7ea60facc86",
   "metadata": {},
   "source": [
    "### 2. Write a Python program to sum all the elements in a list of numbers.\n",
    "### a. numbers = [10, 20, 30, 40]\n",
    "### b. The sum of all elements is: 100"
   ]
  },
  {
   "cell_type": "code",
   "execution_count": 26,
   "id": "b2348216-dbe5-4bee-befe-bc69507fa6cc",
   "metadata": {},
   "outputs": [
    {
     "name": "stdout",
     "output_type": "stream",
     "text": [
      "sum of element is: 100\n"
     ]
    }
   ],
   "source": [
    "numbers = [10, 20, 30, 40]\n",
    "sum=0\n",
    "for num in numbers:\n",
    "    sum=sum+num\n",
    "print('sum of element is:',sum)    "
   ]
  },
  {
   "cell_type": "markdown",
   "id": "d8421279-b0a3-4a18-a810-042b1d5ae676",
   "metadata": {},
   "source": [
    "### 3. Write a Python program to reverse a list without reverse or slicing operator\n",
    "### a. numbers = [1, 2, 3, 4, 5]\n",
    "### b. Reversed list: [5, 4, 3, 2, 1]\n"
   ]
  },
  {
   "cell_type": "code",
   "execution_count": 52,
   "id": "33e7e81b-94d8-42f7-aa04-1469f7d3508f",
   "metadata": {},
   "outputs": [
    {
     "name": "stdout",
     "output_type": "stream",
     "text": [
      "[5, 4, 3, 2, 1]\n"
     ]
    }
   ],
   "source": [
    "numbers = [1, 2, 3, 4, 5]\n",
    "start=0\n",
    "end=len(numbers)-1\n",
    "while(start < end):\n",
    "    numbers[start], numbers[end]= numbers[end], numbers[start]\n",
    "    start +=1\n",
    "    end -=1\n",
    "print(numbers)    "
   ]
  },
  {
   "cell_type": "markdown",
   "id": "673d5ef3-6d60-437f-aa3d-ff065482ea44",
   "metadata": {},
   "source": [
    "### 4. Write a Python program to sort a list in ascending order without sort functions"
   ]
  },
  {
   "cell_type": "code",
   "execution_count": 38,
   "id": "e1b78701-1f3c-4fdc-91a7-3c1d4fda6be9",
   "metadata": {},
   "outputs": [
    {
     "name": "stdout",
     "output_type": "stream",
     "text": [
      "[1, 5, 9, 10, 12, 17, 19, 23, 34, 43, 45, 56]\n"
     ]
    }
   ],
   "source": [
    "list=[10,34,9,12,5,56,1,45,23,43,17,19]\n",
    "for i in range(0,len(list)):\n",
    "    for j in range(i+1,len(list)):\n",
    "        if list[j]<list[i]:\n",
    "            list[i],list[j]=list[j],list[i]\n",
    "print(list)            "
   ]
  },
  {
   "cell_type": "code",
   "execution_count": 11,
   "id": "ab286bde-9cf2-4fe5-a55e-70d273a15cfe",
   "metadata": {},
   "outputs": [
    {
     "name": "stdout",
     "output_type": "stream",
     "text": [
      "[1, 5, 9, 10, 12, 17, 19, 23, 34, 43, 45, 56]\n"
     ]
    }
   ],
   "source": [
    "list=[10,34,9,12,5,56,1,45,23,43,17,19]\n",
    "count=0\n",
    "while(len(list)>count+1):\n",
    "    if list[count]>list[count+1]:\n",
    "        list[count],list[count+1]=list[count+1],list[count]\n",
    "        if count>0:\n",
    "            count=count-1\n",
    "    else:\n",
    "       count=count+1\n",
    "print(list)       "
   ]
  },
  {
   "cell_type": "markdown",
   "id": "b23718d1-c83b-42d0-a66e-29b2e5fc201b",
   "metadata": {},
   "source": [
    "### 5. Write a Python program to remove duplicates from a list while maintaining the order\n",
    "### of elements.\n",
    "### a. numbers = [1, 2, 2, 3, 4, 4, 5]\n",
    "### b. List after removing duplicates: [1, 2, 3, 4, 5]"
   ]
  },
  {
   "cell_type": "code",
   "execution_count": 44,
   "id": "38d0f463-1822-4fb8-8394-9c79fa1397fe",
   "metadata": {},
   "outputs": [
    {
     "name": "stdout",
     "output_type": "stream",
     "text": [
      "[1, 2, 3, 4, 5]\n"
     ]
    }
   ],
   "source": [
    "numbers = [1, 2, 2, 3, 4, 4, 5]\n",
    "list=[]\n",
    "for num in numbers:\n",
    "    if num not in list:\n",
    "        list.append(num)\n",
    "print(list)        "
   ]
  },
  {
   "cell_type": "markdown",
   "id": "d4687567-6547-4d80-b4e3-0710b120a41b",
   "metadata": {},
   "source": [
    "### 6. Write a Python program to find all pairs of numbers in a list that add up to a specific\n",
    "### target sum.\n",
    "### a. numbers = [1, 2, 3, 4, 3, 5, 6] target_sum = 6\n",
    "### b. Pairs that add up to 6: [(3, 3), (2, 4), (1, 5)]"
   ]
  },
  {
   "cell_type": "code",
   "execution_count": 54,
   "id": "6d40c663-20da-4355-8753-c218aa475186",
   "metadata": {},
   "outputs": [
    {
     "name": "stdout",
     "output_type": "stream",
     "text": [
      "pairs: [(1, 5), (2, 4), (3, 3), (3, 3), (4, 2), (5, 1)]\n"
     ]
    }
   ],
   "source": [
    "numbers = [1, 2, 3, 4, 3, 5, 6]\n",
    "numbers.sort()\n",
    "pairs=[]\n",
    "target=6\n",
    "start=0\n",
    "end=len(numbers)-1\n",
    "for num in range(0,len(numbers)):\n",
    "    if numbers[start]+numbers[end]==target:\n",
    "        pairs.append((numbers[start], numbers[end]))\n",
    "        start+=1\n",
    "        end-=1\n",
    "    elif numbers[start]+numbers[end]>target:\n",
    "        end-=1\n",
    "    else:\n",
    "        start+=1\n",
    "print('pairs:',pairs)        "
   ]
  },
  {
   "cell_type": "markdown",
   "id": "3d04b6dc-d07c-4b1e-85a5-fa36ad7fe79c",
   "metadata": {},
   "source": [
    "### 7. Write a Python program to flatten a nested list (list within lists) into a single list.\n",
    "### a. nested_list = [1, [2, 3], [4, [5, 6], 7], 8]\n",
    "### b. Flattened list: [1, 2, 3, 4, 5, 6, 7, 8]\n"
   ]
  },
  {
   "cell_type": "code",
   "execution_count": 1,
   "id": "43c63bd9-bcc6-47db-a4c3-3000aae70fdf",
   "metadata": {},
   "outputs": [
    {
     "name": "stdout",
     "output_type": "stream",
     "text": [
      "[1, 2, 3, 4, 5, 6, 7, 8]\n"
     ]
    }
   ],
   "source": [
    "nested_list = [1, [2, 3], [4, [5, 6], 7,8]]\n",
    "new_list=[]\n",
    "for i in nested_list:\n",
    "    if type(i)==list:     \n",
    "        for item in i:\n",
    "            if type(item)==list:\n",
    "                new_list.extend(item)\n",
    "            else:\n",
    "                new_list.append(item)\n",
    "    else:\n",
    "        new_list.append(i)\n",
    "print(new_list)        "
   ]
  },
  {
   "cell_type": "markdown",
   "id": "b509204d-4e64-4c4d-9813-5aff7e577205",
   "metadata": {},
   "source": [
    "### 8. Write a Python program to find the sum of the elements in a list, excluding the largest\n",
    "### and smallest element. Don’t use max or min functions\n",
    "### a. numbers = [1, 2, 3, 4, 5]\n",
    "### b. Sum excluding the largest and smallest element: 9"
   ]
  },
  {
   "cell_type": "code",
   "execution_count": 27,
   "id": "d06848c3-8b70-4b5c-964d-e97d6fa913b1",
   "metadata": {},
   "outputs": [
    {
     "name": "stdout",
     "output_type": "stream",
     "text": [
      "largest element: 5\n",
      "smallest element: 1\n",
      "sum of numbers: 9\n"
     ]
    }
   ],
   "source": [
    "numbers = [1, 2, 3, 4, 5]\n",
    "largest=0\n",
    "smallest=numbers[0]\n",
    "for num in numbers:\n",
    "    if num>largest:\n",
    "        largest=num\n",
    "    elif num<smallest:   \n",
    "         smallest=num\n",
    "print('largest element:',largest)         \n",
    "print('smallest element:',smallest)\n",
    "\n",
    "numbers.remove(largest)\n",
    "numbers.remove(smallest)\n",
    "sum=0\n",
    "for num in numbers:\n",
    "    sum=sum+num\n",
    "print('sum of numbers:',sum)    "
   ]
  },
  {
   "cell_type": "markdown",
   "id": "66f1b860-1f55-410b-a7b6-5f0b4c30e337",
   "metadata": {},
   "source": [
    "### 9. Write a Python program to check if a list is a palindrome (reads the same backward\n",
    "### as forward) using two pointer approach\n",
    "### a. numbers = [1, 2, 3, 2, 1]\n",
    "### b. True"
   ]
  },
  {
   "cell_type": "code",
   "execution_count": 14,
   "id": "1206bb46-a3b0-45ec-92d3-fa870ef279df",
   "metadata": {},
   "outputs": [
    {
     "name": "stdout",
     "output_type": "stream",
     "text": [
      "palindrome number\n"
     ]
    }
   ],
   "source": [
    "numbers = [1, 2, 3, 2, 1]\n",
    "start=0\n",
    "end=len(numbers)-1\n",
    "while start<end:\n",
    "    if numbers[start]!= numbers[end]:\n",
    "        print('Not palindrome')\n",
    "        break\n",
    "    start+=1\n",
    "    end-=1 \n",
    "print('palindrome number')"
   ]
  },
  {
   "cell_type": "markdown",
   "id": "2b32217e-1e49-4cb5-aba1-2354df360ccb",
   "metadata": {},
   "source": [
    "### 10. Write a function to remove duplicate elements from a list.\n",
    "### a. numbers = [1, 2, 3, 2, 4, 5, 1, 6]\n",
    "### b. [1, 2, 3, 4, 5, 6]"
   ]
  },
  {
   "cell_type": "code",
   "execution_count": 30,
   "id": "3fb67895-af82-4535-b446-0ae2be266382",
   "metadata": {},
   "outputs": [
    {
     "name": "stdout",
     "output_type": "stream",
     "text": [
      "[1, 2, 3, 4, 5, 6]\n"
     ]
    }
   ],
   "source": [
    "# Method--1.\n",
    "numbers = [1, 2, 3, 2, 4, 5, 1, 6]\n",
    "list=[]\n",
    "for num in numbers:\n",
    "    if num not in list:\n",
    "        list.append(num)\n",
    "print(list)\n",
    "        "
   ]
  },
  {
   "cell_type": "code",
   "execution_count": 32,
   "id": "6d894bd0-329c-4908-912c-5ed5fce5ff7f",
   "metadata": {},
   "outputs": [
    {
     "name": "stdout",
     "output_type": "stream",
     "text": [
      "{1, 2, 3, 4, 5, 6}\n"
     ]
    }
   ],
   "source": [
    "# Method-2. using set\n",
    "numbers = [1, 2, 3, 2, 4, 5, 1, 6]\n",
    "result=set(numbers)\n",
    "print(result)"
   ]
  },
  {
   "cell_type": "markdown",
   "id": "bbf91ed1-5a9c-4727-854e-c97469b12d5a",
   "metadata": {},
   "source": [
    "### 11. Find Common Elements in Two Lists\n",
    "### a. list1 = [1, 2, 3, 4, 5]\n",
    "### b. list2 = [3, 4, 5, 6, 7]\n",
    "### c. Result: [3, 4, 5]"
   ]
  },
  {
   "cell_type": "code",
   "execution_count": 36,
   "id": "43ad3473-a63f-4a2e-a87d-be56c4ecf7ca",
   "metadata": {},
   "outputs": [
    {
     "name": "stdout",
     "output_type": "stream",
     "text": [
      "[3, 4, 5]\n"
     ]
    }
   ],
   "source": [
    "list1 = [1, 2, 3, 4, 5]\n",
    "list2 = [3, 4, 5, 6, 7]\n",
    "result=[]\n",
    "for num in list2:\n",
    "    if num not in list1:\n",
    "        list1.append(num)\n",
    "    else:\n",
    "        result.append(num)\n",
    "print(result)        \n"
   ]
  },
  {
   "cell_type": "markdown",
   "id": "6d35c00b-7f6e-4b43-922f-1f224b0e6c8d",
   "metadata": {},
   "source": [
    "### 12. Find the Longest Word in a List\n",
    "### a. words = [\"apple\", \"banana\", \"strawberry\", \"kiwi\"]\n",
    "### b. Strawberry"
   ]
  },
  {
   "cell_type": "code",
   "execution_count": 27,
   "id": "edaf879d-c279-4f87-afeb-d78c8b996cdc",
   "metadata": {},
   "outputs": [
    {
     "name": "stdout",
     "output_type": "stream",
     "text": [
      "strawberry\n"
     ]
    }
   ],
   "source": [
    "words = [\"apple\", \"banana\", \"strawberry\", \"kiwi\"]\n",
    "result=''\n",
    "for i in words:     #i=apple,banana,strawberry,kiwi\n",
    "    if len(i)>len(result):\n",
    "        result=i\n",
    "print(result)"
   ]
  },
  {
   "cell_type": "markdown",
   "id": "3910c949-27d3-4b8a-8583-cee98e8853ee",
   "metadata": {},
   "source": [
    "### 14. Find Missing Number in a List\n",
    "### You are given a list of n-1 numbers in the range 1 to n. One number is missing\n",
    "### from the sequence. Find the missing number.\n",
    "### a. numbers = [1, 2, 4, 5, 6]\n",
    "### b. 3"
   ]
  },
  {
   "cell_type": "code",
   "execution_count": 2,
   "id": "95f4855e-65d9-4b8b-98c2-2b11f494fd6d",
   "metadata": {},
   "outputs": [
    {
     "name": "stdout",
     "output_type": "stream",
     "text": [
      "3\n"
     ]
    }
   ],
   "source": [
    "numbers = [1, 2, 4, 5, 6]\n",
    "i=1\n",
    "while i<=len(numbers):\n",
    "    if i not in numbers:\n",
    "        print(i)\n",
    "    i+=1    "
   ]
  },
  {
   "cell_type": "markdown",
   "id": "87a82967-eee0-4463-b742-d55fcfc3623a",
   "metadata": {},
   "source": [
    "### 15. Find the First Non-Repeating Element\n",
    "### Given a list of integers, find the first element that appears only once.\n",
    "### a. numbers = [4, 5, 1, 2, 0, 4, 5, 2]\n",
    "### b. Expected Output: 1"
   ]
  },
  {
   "cell_type": "code",
   "execution_count": 7,
   "id": "02d57bc4-c9b0-4798-bc25-aa6ea05f85fc",
   "metadata": {},
   "outputs": [
    {
     "name": "stdout",
     "output_type": "stream",
     "text": [
      "1\n"
     ]
    }
   ],
   "source": [
    "numbers = [4, 5, 1, 2, 0, 4, 5, 2]\n",
    "for num in numbers:\n",
    "    if numbers.count(num)==1:\n",
    "       print(num)\n",
    "       break "
   ]
  },
  {
   "cell_type": "markdown",
   "id": "b124f4df-4ce9-4f2a-8bce-7febb4b4f1dc",
   "metadata": {},
   "source": [
    "### 16. Move All Zeros to the End\n",
    "### Given a list of integers, move all zeros to the end while maintaining the relative order\n",
    "### of non-zero elements. Don’t use any inbuilt functions\n",
    "### a. numbers = [0, 1, 0, 3, 12]\n",
    "### b. [1, 3, 12, 0, 0]"
   ]
  },
  {
   "cell_type": "code",
   "execution_count": 9,
   "id": "dbd6005b-b063-4a70-a342-bf695ebba1a2",
   "metadata": {},
   "outputs": [
    {
     "name": "stdout",
     "output_type": "stream",
     "text": [
      "[1, 3, 12, 0, 0]\n"
     ]
    }
   ],
   "source": [
    "# Method 1.\n",
    "numbers = [0, 1, 0, 3, 12]\n",
    "for i in numbers:\n",
    "    if i==0:\n",
    "        numbers.remove(i)\n",
    "        numbers.append(i)\n",
    "print(numbers)           "
   ]
  },
  {
   "cell_type": "code",
   "execution_count": 2,
   "id": "a76483d3-ffea-4b8b-8360-d760974c956c",
   "metadata": {},
   "outputs": [
    {
     "name": "stdout",
     "output_type": "stream",
     "text": [
      "[1, 3, 12, 0, 0]\n"
     ]
    }
   ],
   "source": [
    "# Method2.\n",
    "numbers = [0, 1, 0, 3, 12]\n",
    "list=[]\n",
    "for num in numbers:\n",
    "    if num!=0:\n",
    "        list.append(num)\n",
    "for num in numbers:        \n",
    "    if num==0:\n",
    "        list.append(num)\n",
    "print(list)        "
   ]
  },
  {
   "cell_type": "markdown",
   "id": "48746ad3-9f94-435b-8b0f-0f99fdbfb2ca",
   "metadata": {},
   "source": [
    "### 17. Find Elements Greater Than Their Left Neighbor\n",
    "### a. numbers = [1, 3, 2, 6, 5, 8, 7]\n",
    "### b. [3, 6, 8]"
   ]
  },
  {
   "cell_type": "code",
   "execution_count": 1,
   "id": "1cb0e039-6451-47f7-b85c-6f857b74de4f",
   "metadata": {},
   "outputs": [
    {
     "name": "stdout",
     "output_type": "stream",
     "text": [
      "[3, 6, 8]\n"
     ]
    }
   ],
   "source": [
    "numbers = [1, 3, 2, 6, 5, 8, 7]\n",
    "list=[]\n",
    "for i in range(1,len(numbers)):\n",
    "    if numbers[i] > numbers[i-1]:\n",
    "        list.append(numbers[i])\n",
    "print(list)"
   ]
  },
  {
   "cell_type": "markdown",
   "id": "2a42ad1b-028f-4f97-ba64-ae5b0b2431c2",
   "metadata": {},
   "source": [
    "### 18. Find Triplets That Sum to Zero\n",
    "### Given a list of numbers, find all unique triplets (a, b, c) such that a + b + c = 0.\n",
    "### a. numbers = [-1, 0, 1, 2, -1, -4]\n",
    "### b. Expected Output: [(-1, -1, 2), (-1, 0, 1)]"
   ]
  },
  {
   "cell_type": "code",
   "execution_count": 4,
   "id": "ed30f743-2c37-4a68-9a46-7dc2d6497cb1",
   "metadata": {},
   "outputs": [
    {
     "name": "stdout",
     "output_type": "stream",
     "text": [
      "-1 -1 2\n",
      "-1 0 1\n",
      "-1 0 1\n"
     ]
    }
   ],
   "source": [
    "numbers = [-1, 0, 1, 2, -1, -4]\n",
    "numbers.sort()\n",
    "\n",
    "for i in range(0,len(numbers)):\n",
    "    start=i+1\n",
    "    end=len(numbers)-1\n",
    "    while (start<end):\n",
    "       if numbers[i] + numbers[start] + numbers[end]==0:\n",
    "          print(numbers[i],numbers[start],numbers[end])\n",
    "          start+=1\n",
    "          end-=1\n",
    "       elif numbers[i] + numbers[start] + numbers[end]>0:\n",
    "           end-=1\n",
    "\n",
    "       else:\n",
    "           start+=1\n",
    "        "
   ]
  },
  {
   "cell_type": "markdown",
   "id": "35ebd06d-4ab2-47d8-9e4f-6d26f36eb860",
   "metadata": {},
   "source": [
    "# OOPS\n",
    "## object--> instance of the class\n",
    "## real time entity--> characterstic , behaviour\n",
    "## class--> is blueprint for an object"
   ]
  },
  {
   "cell_type": "code",
   "execution_count": 3,
   "id": "b8be93be-99f6-4810-a2fe-9609f1322b6a",
   "metadata": {},
   "outputs": [
    {
     "name": "stdout",
     "output_type": "stream",
     "text": [
      "aman\n",
      "aman@gamil.com\n"
     ]
    }
   ],
   "source": [
    "class StudentRegister:\n",
    "    sName='aman'\n",
    "    sEmail='aman@gamil.com'\n",
    "\n",
    "#object?-: object=class()\n",
    "s1=StudentRegister()\n",
    "print(s1.sName)\n",
    "print(s1.sEmail)"
   ]
  },
  {
   "cell_type": "code",
   "execution_count": 20,
   "id": "9f5c14a2-d40d-456d-96fb-9f174dbee783",
   "metadata": {},
   "outputs": [
    {
     "name": "stdout",
     "output_type": "stream",
     "text": [
      "hero hero\n",
      "after change by object bajaj hero\n",
      "after change by object bajaj bajaj\n"
     ]
    }
   ],
   "source": [
    "class BikeDesign:\n",
    "    company='hero'   #class variable\n",
    "    model='splendor'\n",
    "\n",
    "b1=BikeDesign()\n",
    "print(b1.company,BikeDesign.company)   # object access   ,  class access\n",
    "\n",
    "b1.company='bajaj'\n",
    "print('after change by object',b1.company,BikeDesign.company) #change class varible from object --> sirf object ke liye change hoga.\n",
    "\n",
    "BikeDesign.company='bajaj'\n",
    "print('after change by object',b1.company,BikeDesign.company) #change class varible from className--> class m change hoga."
   ]
  },
  {
   "cell_type": "code",
   "execution_count": 4,
   "id": "6ed131ab-00e6-4b80-802b-b16e9dd21951",
   "metadata": {},
   "outputs": [
    {
     "name": "stdout",
     "output_type": "stream",
     "text": [
      "bike ka model bta do <__main__.BikeDesign object at 0x000002EB12543E00>\n",
      "object ki value <__main__.BikeDesign object at 0x000002EB12543E00>\n"
     ]
    }
   ],
   "source": [
    "class BikeDesign:\n",
    "    company='hero'\n",
    "    def __init__(self):\n",
    "        print('bike ka model bta do',self)\n",
    " \n",
    "b1=BikeDesign()\n",
    "print('object ki value',b1)\n"
   ]
  },
  {
   "cell_type": "code",
   "execution_count": 22,
   "id": "ee47eab5-9747-42c4-88c6-ecbb80ef16a0",
   "metadata": {},
   "outputs": [
    {
     "name": "stdout",
     "output_type": "stream",
     "text": [
      "bike ka model bta do:  splendor\n",
      "object ki value <__main__.BikeDesign object at 0x0000027E196DEF90>\n"
     ]
    }
   ],
   "source": [
    "class BikeDesign:\n",
    "    company='hero'\n",
    "    def __init__(self,model):\n",
    "        print('bike ka model bta do: ',model)\n",
    "\n",
    "b1=BikeDesign('splendor')\n",
    "print('object ki value',b1)"
   ]
  },
  {
   "cell_type": "code",
   "execution_count": 25,
   "id": "23fef1b0-3fff-467b-82ba-43c10e2df0d5",
   "metadata": {},
   "outputs": [
    {
     "name": "stdout",
     "output_type": "stream",
     "text": [
      "splendor\n",
      "shine\n"
     ]
    }
   ],
   "source": [
    "class BikeDesign:\n",
    "    company='hero'\n",
    "    def __init__(self,model):\n",
    "        self.model=model   #self.model=> instance , model=>local variable\n",
    "\n",
    "b1=BikeDesign('splendor')\n",
    "print(b1.model)\n",
    "b2=BikeDesign('shine')\n",
    "print(b2.model)"
   ]
  },
  {
   "cell_type": "code",
   "execution_count": 7,
   "id": "3ff4d886-af95-44d8-85cc-8e50710e08b3",
   "metadata": {},
   "outputs": [
    {
     "name": "stdout",
     "output_type": "stream",
     "text": [
      "splendor hero\n"
     ]
    }
   ],
   "source": [
    "class BikeDesign:\n",
    "    company='hero'\n",
    "    def __init__(self,model):\n",
    "        self.model=model   #self.model=> instance , model=>local variable\n",
    "       \n",
    "\n",
    "b1=BikeDesign('splendor')\n",
    "print(b1.model,b1.company)  # b1.company---> class varible ko object bhi access kr sakta hai."
   ]
  },
  {
   "cell_type": "code",
   "execution_count": 26,
   "id": "b5ac77a6-db0b-4723-b50c-605da0f7e8ea",
   "metadata": {},
   "outputs": [
    {
     "name": "stdout",
     "output_type": "stream",
     "text": [
      "student details 10 tushar\n",
      "student details 11 shubham\n"
     ]
    }
   ],
   "source": [
    "class Student:\n",
    "    college='regex'\n",
    "    def __init__(self,sid,name,email):\n",
    "        self.sid=sid\n",
    "        self.name=name\n",
    "        self.email=email\n",
    "\n",
    "    def info(self):\n",
    "        print('student details',self.sid,self.name)\n",
    "\n",
    "\n",
    "s1=Student(10,'tushar','tushar@gamil.com')  \n",
    "s1.info()\n",
    "s2=Student(11,'shubham','shubham@gamil.com') \n",
    "s2.info()"
   ]
  },
  {
   "cell_type": "markdown",
   "id": "bc5f7856-a377-42e3-b7de-980e0f7e5f77",
   "metadata": {},
   "source": [
    "# Inheritance"
   ]
  },
  {
   "cell_type": "code",
   "execution_count": 17,
   "id": "1d45bf89-1d7a-4a69-b31b-2903c2fd9d06",
   "metadata": {},
   "outputs": [
    {
     "data": {
      "text/plain": [
       "'yash@gmail.com'"
      ]
     },
     "execution_count": 17,
     "metadata": {},
     "output_type": "execute_result"
    }
   ],
   "source": [
    "class Student:\n",
    "    college='regex'\n",
    "    def __init__(self,sid,name,email):\n",
    "        self.sid=sid\n",
    "        self.name=name\n",
    "        self.email=email\n",
    "\n",
    "class CollegeAdmission(Student):\n",
    "    def __init__(self,sid,name,email,subject):\n",
    "      self.subject=subject\n",
    "      super().__init__(sid,name,email)\n",
    "\n",
    "c1=CollegeAdmission(19,'yash','yash@gmail.com','science') \n",
    "c1.email"
   ]
  },
  {
   "cell_type": "markdown",
   "id": "8f704759-956c-4982-b1fb-2d2e2cba44b6",
   "metadata": {},
   "source": [
    "# Polymorphism\n"
   ]
  },
  {
   "cell_type": "markdown",
   "id": "b30a147c-7f51-4970-8f6f-321998915fa2",
   "metadata": {},
   "source": [
    "# method overriding"
   ]
  },
  {
   "cell_type": "code",
   "execution_count": 27,
   "id": "9e396bd0-540f-4082-a9ea-9c43f52c27c6",
   "metadata": {},
   "outputs": [
    {
     "name": "stdout",
     "output_type": "stream",
     "text": [
      "this is student register class regex\n"
     ]
    }
   ],
   "source": [
    "class student:\n",
    "    college='regex'\n",
    "    def info(self):\n",
    "        print('this is student class')\n",
    "class studentRegister(student):\n",
    "    def info(self):\n",
    "        print('this is student register class',student.college)\n",
    "\n",
    "sr1=studentRegister()\n",
    "sr1.info()"
   ]
  },
  {
   "cell_type": "markdown",
   "id": "2a089fda-4cb6-41d1-ad9a-401a90af9861",
   "metadata": {},
   "source": [
    "# operator overloading"
   ]
  },
  {
   "cell_type": "code",
   "execution_count": 7,
   "id": "ad56f88a-2e17-499b-99d9-2cf255b2540c",
   "metadata": {},
   "outputs": [
    {
     "data": {
      "text/plain": [
       "ADDno has a total of 30"
      ]
     },
     "execution_count": 7,
     "metadata": {},
     "output_type": "execute_result"
    }
   ],
   "source": [
    "class addno:\n",
    "    def __init__(self,num,num1):\n",
    "        self.total=num+num1\n",
    "\n",
    "    def __repr__(self):\n",
    "       return f'ADDno has a total of {self.total}'\n",
    "a1=addno(10,20) \n",
    "a1"
   ]
  },
  {
   "cell_type": "markdown",
   "id": "63de9a83-6a3c-4d3d-a5df-0217b94f1aa2",
   "metadata": {},
   "source": [
    "# dunder fucntion"
   ]
  },
  {
   "cell_type": "code",
   "execution_count": 29,
   "id": "3951c142-8e6e-4765-8b97-af7b3ff7a5fd",
   "metadata": {},
   "outputs": [
    {
     "name": "stdout",
     "output_type": "stream",
     "text": [
      "hey hello\n",
      "greater than value\n"
     ]
    }
   ],
   "source": [
    "class addno:\n",
    "    def __init__(self,num,num1):\n",
    "        self.total=num+num1\n",
    "\n",
    "    def __add__(self,x):  #x,y==overloading \n",
    "        print('hey hello')\n",
    "\n",
    "    def __gt__(self,y): \n",
    "        print('greater than value')\n",
    "a1=addno(10,20) \n",
    "a2=addno(15,20)\n",
    "a1+a2   #a1.__add__(a2)\n",
    "a1>a2   # a1__gt__(a2)"
   ]
  },
  {
   "cell_type": "markdown",
   "id": "abf630a9-9464-4f46-b29e-809a189def41",
   "metadata": {},
   "source": [
    "# Private modifiers"
   ]
  },
  {
   "cell_type": "code",
   "execution_count": 44,
   "id": "2a3c7957-d4f4-49b3-baac-8a3574af4336",
   "metadata": {},
   "outputs": [
    {
     "name": "stdout",
     "output_type": "stream",
     "text": [
      "amount is 100\n"
     ]
    },
    {
     "data": {
      "text/plain": [
       "100"
      ]
     },
     "execution_count": 44,
     "metadata": {},
     "output_type": "execute_result"
    }
   ],
   "source": [
    "class register:\n",
    "    __amount=100   #private variable\n",
    "    company='regex'     #within the class\n",
    "\n",
    "    def abc(self):\n",
    "       print('amount is',self.__amount)\n",
    "\n",
    "\n",
    "r1=register()\n",
    "r1.abc()\n",
    "#r1.__amount   #object bhi access nhi kr sakta \n",
    "r1._register__amount    #_class __variable\n"
   ]
  },
  {
   "cell_type": "markdown",
   "id": "9b7ca65b-18ec-4249-b0e2-bec944f62733",
   "metadata": {},
   "source": [
    "# Abstraction"
   ]
  },
  {
   "cell_type": "code",
   "execution_count": 5,
   "id": "47e90798-29f5-44a6-87dc-a3c2d588c4d9",
   "metadata": {},
   "outputs": [
    {
     "name": "stdout",
     "output_type": "stream",
     "text": [
      "python marks is 20\n"
     ]
    }
   ],
   "source": [
    "from abc import ABC,abstractmethod\n",
    "#abstract base class\n",
    "class testTemplate(ABC):\n",
    "    years=2025\n",
    "    @abstractmethod\n",
    "    def marks(self):\n",
    "        pass\n",
    "class pythonTest(testTemplate): \n",
    "    def marks(self):\n",
    "        print(\"python marks is 20\")\n",
    "\n",
    "pt1=pythonTest()\n",
    "pt1.marks()\n",
    "# pt2=testTemplate()  #abstract class ka object nhi banta.\n",
    "# pt2.marks()"
   ]
  },
  {
   "cell_type": "code",
   "execution_count": 3,
   "id": "d72c5f64-69b2-4f51-9b4f-9a83bf19fe59",
   "metadata": {},
   "outputs": [
    {
     "name": "stdout",
     "output_type": "stream",
     "text": [
      "[0, 0.77, 2]\n"
     ]
    }
   ],
   "source": [
    "list=[0,1,0.77,1,2]\n",
    "list2=[]\n",
    "for i in list:\n",
    "    if list.count(i)==1:\n",
    "        list2.append(i)\n",
    "\n",
    "print(list2)        "
   ]
  },
  {
   "cell_type": "code",
   "execution_count": 11,
   "id": "c3541429-14c5-4ee2-8e1b-5aa6e11785a8",
   "metadata": {},
   "outputs": [
    {
     "name": "stdout",
     "output_type": "stream",
     "text": [
      "54321\n",
      "5432\n",
      "543\n",
      "54\n",
      "5\n"
     ]
    }
   ],
   "source": [
    "n=5\n",
    "for i in range(n):\n",
    "    a=5\n",
    "    for j in range(i,n):\n",
    "        print(a,end='')\n",
    "        a=a-1\n",
    "    print()"
   ]
  },
  {
   "cell_type": "code",
   "execution_count": 14,
   "id": "7b041314-6018-4c2e-ae8f-86e0addf8753",
   "metadata": {},
   "outputs": [
    {
     "name": "stdout",
     "output_type": "stream",
     "text": [
      "[20]\n"
     ]
    }
   ],
   "source": [
    "list=[10,20,30,20,50,40]\n",
    "new_list=[]\n",
    "for i in range(0,len(list)):\n",
    "    for j in range(i+1,len(list)):\n",
    "       if(list[i]==list[j]):\n",
    "           if(list[i] not in new_list):\n",
    "               new_list.append(list[i])\n",
    "print(new_list)               \n",
    "           "
   ]
  },
  {
   "cell_type": "code",
   "execution_count": 2,
   "id": "8fb46b8e-4c8e-4ef5-9e6d-181631127755",
   "metadata": {},
   "outputs": [
    {
     "name": "stdout",
     "output_type": "stream",
     "text": [
      "palindrome list\n"
     ]
    }
   ],
   "source": [
    "list=[10,20,30,20,10]\n",
    "index=0\n",
    "a=0\n",
    "end=len(list)-1\n",
    "while(index < end):\n",
    "    if(list[index] != list[end]):\n",
    "        a=5\n",
    "        break\n",
    "    index+=1\n",
    "    end-=1\n",
    "\n",
    "if(a==0):\n",
    "    print('palindrome list')\n",
    "\n",
    "else:\n",
    "    print('not palindrome')\n",
    "    \n"
   ]
  },
  {
   "cell_type": "code",
   "execution_count": 4,
   "id": "a5f41475-a067-4109-943d-e02e72fa008c",
   "metadata": {},
   "outputs": [
    {
     "name": "stdout",
     "output_type": "stream",
     "text": [
      "palindrom\n"
     ]
    }
   ],
   "source": [
    "str='mama'\n",
    "a=0\n",
    "start=0\n",
    "end=-1\n",
    "while(start < end):\n",
    "    if(str[start] != str[end]):\n",
    "        a=4\n",
    "        break\n",
    "    start+=1\n",
    "    end-=1\n",
    "if(a==0):\n",
    "    print('palindrom')\n",
    "else:\n",
    "    print('not palindrome')"
   ]
  },
  {
   "cell_type": "code",
   "execution_count": 47,
   "id": "1b48e1d1-1f25-4f76-a1ea-788470a96f31",
   "metadata": {},
   "outputs": [
    {
     "name": "stdout",
     "output_type": "stream",
     "text": [
      " *****\n",
      "  ****\n",
      "   ***\n",
      "    **\n",
      "     *\n",
      "     *\n",
      "    **\n",
      "   ***\n",
      "  ****\n",
      " *****\n"
     ]
    }
   ],
   "source": [
    "n=5\n",
    "for i in range(n):\n",
    "    for j in range(i+1):\n",
    "        print(' ', end=\"\")\n",
    "    for j in range(i,n):\n",
    "        print('*', end='')\n",
    "    print( )  \n",
    "for i in range(n):    \n",
    "    for j in range(i,n):\n",
    "        print(' ',end='')\n",
    "    for j in range(i+1):\n",
    "        print('*',end='')\n",
    "    print( )"
   ]
  },
  {
   "cell_type": "code",
   "execution_count": 59,
   "id": "c3d45ea1-66b2-4079-8cda-60dc793a9025",
   "metadata": {},
   "outputs": [
    {
     "name": "stdout",
     "output_type": "stream",
     "text": [
      "54321\n",
      "5432\n",
      "543\n",
      "54\n",
      "5\n"
     ]
    }
   ],
   "source": [
    "n=5\n",
    "for i in range(n):\n",
    "    a=5\n",
    "    for j in range(i,n):\n",
    "        print(a,end='')\n",
    "        a=a-1\n",
    "    print()    "
   ]
  },
  {
   "cell_type": "code",
   "execution_count": 65,
   "id": "85d94a45-984a-44d7-95cd-0f0cbc4204bc",
   "metadata": {},
   "outputs": [
    {
     "name": "stdout",
     "output_type": "stream",
     "text": [
      "54321\n",
      "4321\n",
      "321\n",
      "21\n",
      "1\n"
     ]
    }
   ],
   "source": [
    "n=5\n",
    "for i in range(n):\n",
    "    a=n-i\n",
    "    for j in range(a):\n",
    "        print(a-j,end='')\n",
    "    print()  "
   ]
  },
  {
   "cell_type": "code",
   "execution_count": 86,
   "id": "47627077-43da-4d1b-b4df-db00c93f3104",
   "metadata": {},
   "outputs": [
    {
     "name": "stdout",
     "output_type": "stream",
     "text": [
      "5 4 3 2 1 \n",
      "0 -1 -2 -3 \n",
      "-4 -5 -6 \n",
      "-7 -8 \n",
      "-9 \n"
     ]
    }
   ],
   "source": [
    "n=5\n",
    "a=5\n",
    "for i in range(n):\n",
    "    for j in range(i,n):\n",
    "        print(a,end=' ')\n",
    "        a=a-1\n",
    "    print()"
   ]
  },
  {
   "cell_type": "code",
   "execution_count": null,
   "id": "abebb523-6e59-4a47-a7dd-4b9b4881998a",
   "metadata": {},
   "outputs": [],
   "source": []
  },
  {
   "cell_type": "code",
   "execution_count": null,
   "id": "eecaa708-81f6-4ac3-a562-59ccd4a5de0b",
   "metadata": {},
   "outputs": [],
   "source": []
  }
 ],
 "metadata": {
  "kernelspec": {
   "display_name": "Python 3 (ipykernel)",
   "language": "python",
   "name": "python3"
  },
  "language_info": {
   "codemirror_mode": {
    "name": "ipython",
    "version": 3
   },
   "file_extension": ".py",
   "mimetype": "text/x-python",
   "name": "python",
   "nbconvert_exporter": "python",
   "pygments_lexer": "ipython3",
   "version": "3.13.2"
  },
  "widgets": {
   "application/vnd.jupyter.widget-state+json": {
    "state": {},
    "version_major": 2,
    "version_minor": 0
   }
  }
 },
 "nbformat": 4,
 "nbformat_minor": 5
}
